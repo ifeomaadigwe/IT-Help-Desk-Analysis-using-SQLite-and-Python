{
 "cells": [
  {
   "cell_type": "markdown",
   "id": "40e4a48a",
   "metadata": {},
   "source": [
    "# Project: IT Help Desk Analysis\n",
    "- by Ifeoma Augusta Adigwe"
   ]
  },
  {
   "cell_type": "markdown",
   "id": "ff41c6e6",
   "metadata": {},
   "source": [
    "#### Introduction:\n",
    "\n",
    "This dataset was gotten from fp20analytics.com monthly Analytics challenges(August 2023 version)\n",
    "- The IT Help Desk Analysis project aims to provide insights into the efficiency of IT support processes and customer satisfaction. The project utilizes two datasets: the \"data\" dataset containing information about IT help desk tickets and the \"agents\" dataset containing details about the support agents. These datasets are interconnected through the \"Agent ID\" column. By analyzing the data, stakeholders aim to optimize support operations, enhance customer experience, and identify areas for improvement.\n",
    "\n",
    "### Two Datasets:\n",
    "\n",
    "#### Data Dataset (97498 rows × 10 columns):\n",
    "- ID Ticket: Unique identifier for each help desk ticket.\n",
    "- Fecha: Date when the ticket was created.\n",
    "- Employee ID: Identifier of the employee raising the support request.\n",
    "- Agent ID: Identifier of the support agent handling the ticket.\n",
    "- Request Category: Category of the support request (e.g., software, hardware).\n",
    "- Issue Type: Specific issue type reported by the employee.\n",
    "- Severity: Severity level of the issue (e.g., critical, moderate).\n",
    "- Priority: Priority assigned to the ticket.\n",
    "- Resolution Time (Days): Time taken to resolve the issue in days.\n",
    "- Satisfaction Rate: Rate of satisfaction reported by the employee after resolution.\n",
    "\n",
    "#### Agents Dataset (50 rows × 6 columns):\n",
    "- Agent ID: Unique identifier for each support agent.\n",
    "- Full Name: Full name of the support agent.\n",
    "- Email: Email address of the support agent.\n",
    "- Year of Birth: Year of birth of the support agent.\n",
    "- Month of Birth: Month of birth of the support agent.\n",
    "- Day of Birth: Day of birth of the support agent."
   ]
  },
  {
   "cell_type": "markdown",
   "id": "6f7f5106",
   "metadata": {},
   "source": [
    "#### Stakeholders expectations:\n",
    "\n",
    "The IT Help Desk Analysis project aims to provide valuable insights that can drive improvements in support operations, enhance customer satisfaction, and optimize resource allocation. By leveraging the interconnected datasets and applying analytical techniques, stakeholders can make informed decisions based on the Agent Performance, Customer Satisfaction,Trends Over Time,  Efficiency Enhancement etc, all these and more can  contribute to a more efficient and effective IT support environment."
   ]
  },
  {
   "cell_type": "code",
   "execution_count": null,
   "id": "ac416e1d",
   "metadata": {},
   "outputs": [],
   "source": []
  },
  {
   "cell_type": "markdown",
   "id": "0c11cff9",
   "metadata": {},
   "source": [
    "# The Datasets"
   ]
  },
  {
   "cell_type": "code",
   "execution_count": 1,
   "id": "63397c80",
   "metadata": {},
   "outputs": [],
   "source": [
    "# Import all necessary libraries\n",
    "\n",
    "import sqlite3\n",
    "import pandas as pd\n",
    "import numpy as np\n",
    "import seaborn as sns\n",
    "import matplotlib.pyplot as plt"
   ]
  },
  {
   "cell_type": "code",
   "execution_count": 2,
   "id": "a67ec2f7",
   "metadata": {},
   "outputs": [],
   "source": [
    "# Install the ipython-sql library\n",
    "\n",
    "#!pip install ipython-sql"
   ]
  },
  {
   "cell_type": "code",
   "execution_count": 3,
   "id": "02c3a1f6",
   "metadata": {},
   "outputs": [
    {
     "data": {
      "text/html": [
       "<div>\n",
       "<style scoped>\n",
       "    .dataframe tbody tr th:only-of-type {\n",
       "        vertical-align: middle;\n",
       "    }\n",
       "\n",
       "    .dataframe tbody tr th {\n",
       "        vertical-align: top;\n",
       "    }\n",
       "\n",
       "    .dataframe thead th {\n",
       "        text-align: right;\n",
       "    }\n",
       "</style>\n",
       "<table border=\"1\" class=\"dataframe\">\n",
       "  <thead>\n",
       "    <tr style=\"text-align: right;\">\n",
       "      <th></th>\n",
       "      <th>ID Ticket</th>\n",
       "      <th>Fecha</th>\n",
       "      <th>Employee ID</th>\n",
       "      <th>Agent ID</th>\n",
       "      <th>Request Category</th>\n",
       "      <th>Issue Type</th>\n",
       "      <th>Severity</th>\n",
       "      <th>Priority</th>\n",
       "      <th>Resolution Time (Days)</th>\n",
       "      <th>Satisfaction Rate</th>\n",
       "    </tr>\n",
       "  </thead>\n",
       "  <tbody>\n",
       "    <tr>\n",
       "      <th>0</th>\n",
       "      <td>GDDENR-5042564453</td>\n",
       "      <td>2016-07-13</td>\n",
       "      <td>1735</td>\n",
       "      <td>4</td>\n",
       "      <td>Login Access</td>\n",
       "      <td>IT Error</td>\n",
       "      <td>0 - Unclasified</td>\n",
       "      <td>0 - Unassiged</td>\n",
       "      <td>0</td>\n",
       "      <td>5</td>\n",
       "    </tr>\n",
       "    <tr>\n",
       "      <th>1</th>\n",
       "      <td>GDDENR-8042508060</td>\n",
       "      <td>2016-05-18</td>\n",
       "      <td>1566</td>\n",
       "      <td>10</td>\n",
       "      <td>Login Access</td>\n",
       "      <td>IT Error</td>\n",
       "      <td>0 - Unclasified</td>\n",
       "      <td>0 - Unassiged</td>\n",
       "      <td>0</td>\n",
       "      <td>5</td>\n",
       "    </tr>\n",
       "  </tbody>\n",
       "</table>\n",
       "</div>"
      ],
      "text/plain": [
       "           ID Ticket      Fecha  Employee ID  Agent ID Request Category  \\\n",
       "0  GDDENR-5042564453 2016-07-13         1735         4     Login Access   \n",
       "1  GDDENR-8042508060 2016-05-18         1566        10     Login Access   \n",
       "\n",
       "  Issue Type         Severity       Priority  Resolution Time (Days)  \\\n",
       "0   IT Error  0 - Unclasified  0 - Unassiged                       0   \n",
       "1   IT Error  0 - Unclasified  0 - Unassiged                       0   \n",
       "\n",
       "   Satisfaction Rate  \n",
       "0                  5  \n",
       "1                  5  "
      ]
     },
     "execution_count": 3,
     "metadata": {},
     "output_type": "execute_result"
    }
   ],
   "source": [
    "# Load the first dataset\n",
    "\n",
    "data = pd.read_excel(r'C:\\Users\\IfeomaAugustaAdigwe\\Desktop\\DATASETS Pool\\IT_ticket_analysis\\IT_tickets_analysis.xlsx')\n",
    "data.head(2)"
   ]
  },
  {
   "cell_type": "code",
   "execution_count": 4,
   "id": "f14bb960",
   "metadata": {},
   "outputs": [
    {
     "data": {
      "text/html": [
       "<div>\n",
       "<style scoped>\n",
       "    .dataframe tbody tr th:only-of-type {\n",
       "        vertical-align: middle;\n",
       "    }\n",
       "\n",
       "    .dataframe tbody tr th {\n",
       "        vertical-align: top;\n",
       "    }\n",
       "\n",
       "    .dataframe thead th {\n",
       "        text-align: right;\n",
       "    }\n",
       "</style>\n",
       "<table border=\"1\" class=\"dataframe\">\n",
       "  <thead>\n",
       "    <tr style=\"text-align: right;\">\n",
       "      <th></th>\n",
       "      <th>ID Ticket</th>\n",
       "      <th>Fecha</th>\n",
       "      <th>Employee ID</th>\n",
       "      <th>Agent ID</th>\n",
       "      <th>Request Category</th>\n",
       "      <th>Issue Type</th>\n",
       "      <th>Severity</th>\n",
       "      <th>Priority</th>\n",
       "      <th>Resolution Time (Days)</th>\n",
       "      <th>Satisfaction Rate</th>\n",
       "    </tr>\n",
       "  </thead>\n",
       "  <tbody>\n",
       "    <tr>\n",
       "      <th>97496</th>\n",
       "      <td>TWRTSR-9944138906</td>\n",
       "      <td>2020-11-03</td>\n",
       "      <td>1060</td>\n",
       "      <td>9</td>\n",
       "      <td>System</td>\n",
       "      <td>IT Request</td>\n",
       "      <td>1 - Minor</td>\n",
       "      <td>1 - Low</td>\n",
       "      <td>9</td>\n",
       "      <td>5</td>\n",
       "    </tr>\n",
       "    <tr>\n",
       "      <th>97497</th>\n",
       "      <td>TWRTST-8643986162</td>\n",
       "      <td>2020-06-04</td>\n",
       "      <td>1876</td>\n",
       "      <td>41</td>\n",
       "      <td>System</td>\n",
       "      <td>IT Request</td>\n",
       "      <td>1 - Minor</td>\n",
       "      <td>1 - Low</td>\n",
       "      <td>6</td>\n",
       "      <td>4</td>\n",
       "    </tr>\n",
       "  </tbody>\n",
       "</table>\n",
       "</div>"
      ],
      "text/plain": [
       "               ID Ticket      Fecha  Employee ID  Agent ID Request Category  \\\n",
       "97496  TWRTSR-9944138906 2020-11-03         1060         9           System   \n",
       "97497  TWRTST-8643986162 2020-06-04         1876        41           System   \n",
       "\n",
       "       Issue Type   Severity Priority  Resolution Time (Days)  \\\n",
       "97496  IT Request  1 - Minor  1 - Low                       9   \n",
       "97497  IT Request  1 - Minor  1 - Low                       6   \n",
       "\n",
       "       Satisfaction Rate  \n",
       "97496                  5  \n",
       "97497                  4  "
      ]
     },
     "execution_count": 4,
     "metadata": {},
     "output_type": "execute_result"
    }
   ],
   "source": [
    "data.tail(2)"
   ]
  },
  {
   "cell_type": "code",
   "execution_count": 5,
   "id": "8bea9195",
   "metadata": {},
   "outputs": [
    {
     "data": {
      "text/plain": [
       "Index(['ID Ticket', 'Fecha', 'Employee ID', 'Agent ID', 'Request Category',\n",
       "       'Issue Type', 'Severity', 'Priority', 'Resolution Time (Days)',\n",
       "       'Satisfaction Rate'],\n",
       "      dtype='object')"
      ]
     },
     "execution_count": 5,
     "metadata": {},
     "output_type": "execute_result"
    }
   ],
   "source": [
    "data.columns"
   ]
  },
  {
   "cell_type": "code",
   "execution_count": 6,
   "id": "c432176d",
   "metadata": {},
   "outputs": [
    {
     "name": "stdout",
     "output_type": "stream",
     "text": [
      "(97498, 10)\n"
     ]
    }
   ],
   "source": [
    "print(data.shape)"
   ]
  },
  {
   "cell_type": "code",
   "execution_count": 7,
   "id": "80469e6e",
   "metadata": {},
   "outputs": [
    {
     "data": {
      "text/html": [
       "<div>\n",
       "<style scoped>\n",
       "    .dataframe tbody tr th:only-of-type {\n",
       "        vertical-align: middle;\n",
       "    }\n",
       "\n",
       "    .dataframe tbody tr th {\n",
       "        vertical-align: top;\n",
       "    }\n",
       "\n",
       "    .dataframe thead th {\n",
       "        text-align: right;\n",
       "    }\n",
       "</style>\n",
       "<table border=\"1\" class=\"dataframe\">\n",
       "  <thead>\n",
       "    <tr style=\"text-align: right;\">\n",
       "      <th></th>\n",
       "      <th>Agent ID</th>\n",
       "      <th>Full Name</th>\n",
       "      <th>Email</th>\n",
       "      <th>Year of Birth</th>\n",
       "      <th>Month of Birth</th>\n",
       "      <th>Day of Birth</th>\n",
       "    </tr>\n",
       "  </thead>\n",
       "  <tbody>\n",
       "    <tr>\n",
       "      <th>0</th>\n",
       "      <td>1</td>\n",
       "      <td>Mata Lucero</td>\n",
       "      <td>lucero.mata@fp20analytics.com</td>\n",
       "      <td>1989</td>\n",
       "      <td>4</td>\n",
       "      <td>28</td>\n",
       "    </tr>\n",
       "    <tr>\n",
       "      <th>1</th>\n",
       "      <td>2</td>\n",
       "      <td>JesusGrajeda</td>\n",
       "      <td>jesus.grajeda@fp20analytics.com</td>\n",
       "      <td>1979</td>\n",
       "      <td>1</td>\n",
       "      <td>1</td>\n",
       "    </tr>\n",
       "  </tbody>\n",
       "</table>\n",
       "</div>"
      ],
      "text/plain": [
       "   Agent ID     Full Name                            Email  Year of Birth  \\\n",
       "0         1   Mata Lucero    lucero.mata@fp20analytics.com           1989   \n",
       "1         2  JesusGrajeda  jesus.grajeda@fp20analytics.com           1979   \n",
       "\n",
       "   Month of Birth  Day of Birth  \n",
       "0               4            28  \n",
       "1               1             1  "
      ]
     },
     "execution_count": 7,
     "metadata": {},
     "output_type": "execute_result"
    }
   ],
   "source": [
    "# Load the second dataset\n",
    "\n",
    "agents = pd.read_excel(r'C:\\Users\\IfeomaAugustaAdigwe\\Desktop\\DATASETS Pool\\IT_ticket_analysis\\Agents_info.xlsx')\n",
    "agents.head(2)"
   ]
  },
  {
   "cell_type": "code",
   "execution_count": 8,
   "id": "a0f3f40e",
   "metadata": {},
   "outputs": [
    {
     "data": {
      "text/html": [
       "<div>\n",
       "<style scoped>\n",
       "    .dataframe tbody tr th:only-of-type {\n",
       "        vertical-align: middle;\n",
       "    }\n",
       "\n",
       "    .dataframe tbody tr th {\n",
       "        vertical-align: top;\n",
       "    }\n",
       "\n",
       "    .dataframe thead th {\n",
       "        text-align: right;\n",
       "    }\n",
       "</style>\n",
       "<table border=\"1\" class=\"dataframe\">\n",
       "  <thead>\n",
       "    <tr style=\"text-align: right;\">\n",
       "      <th></th>\n",
       "      <th>Agent ID</th>\n",
       "      <th>Full Name</th>\n",
       "      <th>Email</th>\n",
       "      <th>Year of Birth</th>\n",
       "      <th>Month of Birth</th>\n",
       "      <th>Day of Birth</th>\n",
       "    </tr>\n",
       "  </thead>\n",
       "  <tbody>\n",
       "    <tr>\n",
       "      <th>48</th>\n",
       "      <td>49</td>\n",
       "      <td>Armando Sierra</td>\n",
       "      <td>armando.sierra@fp20analytics.com</td>\n",
       "      <td>1991</td>\n",
       "      <td>4</td>\n",
       "      <td>5</td>\n",
       "    </tr>\n",
       "    <tr>\n",
       "      <th>49</th>\n",
       "      <td>50</td>\n",
       "      <td>Ramon Macias</td>\n",
       "      <td>ramon.macias@fp20analytics.com</td>\n",
       "      <td>1980</td>\n",
       "      <td>3</td>\n",
       "      <td>4</td>\n",
       "    </tr>\n",
       "  </tbody>\n",
       "</table>\n",
       "</div>"
      ],
      "text/plain": [
       "    Agent ID       Full Name                             Email  Year of Birth  \\\n",
       "48        49  Armando Sierra  armando.sierra@fp20analytics.com           1991   \n",
       "49        50    Ramon Macias    ramon.macias@fp20analytics.com           1980   \n",
       "\n",
       "    Month of Birth  Day of Birth  \n",
       "48               4             5  \n",
       "49               3             4  "
      ]
     },
     "execution_count": 8,
     "metadata": {},
     "output_type": "execute_result"
    }
   ],
   "source": [
    "agents.tail(2)"
   ]
  },
  {
   "cell_type": "code",
   "execution_count": 9,
   "id": "a2a36e3d",
   "metadata": {},
   "outputs": [
    {
     "data": {
      "text/plain": [
       "Index(['Agent ID', 'Full Name', 'Email', 'Year of Birth', 'Month of Birth',\n",
       "       'Day of Birth'],\n",
       "      dtype='object')"
      ]
     },
     "execution_count": 9,
     "metadata": {},
     "output_type": "execute_result"
    }
   ],
   "source": [
    "agents.columns"
   ]
  },
  {
   "cell_type": "code",
   "execution_count": 10,
   "id": "1dac12a1",
   "metadata": {},
   "outputs": [
    {
     "name": "stdout",
     "output_type": "stream",
     "text": [
      "(50, 6)\n"
     ]
    }
   ],
   "source": [
    "print(agents.shape)"
   ]
  },
  {
   "cell_type": "code",
   "execution_count": 11,
   "id": "a81c8c05",
   "metadata": {},
   "outputs": [],
   "source": [
    "import warnings\n",
    "warnings.filterwarnings(\"ignore\")"
   ]
  },
  {
   "cell_type": "code",
   "execution_count": 12,
   "id": "d7f49df1",
   "metadata": {},
   "outputs": [
    {
     "name": "stdout",
     "output_type": "stream",
     "text": [
      "<class 'pandas.core.frame.DataFrame'>\n",
      "RangeIndex: 97498 entries, 0 to 97497\n",
      "Data columns (total 10 columns):\n",
      " #   Column                  Non-Null Count  Dtype         \n",
      "---  ------                  --------------  -----         \n",
      " 0   ID Ticket               97498 non-null  object        \n",
      " 1   Fecha                   97498 non-null  datetime64[ns]\n",
      " 2   Employee ID             97498 non-null  int64         \n",
      " 3   Agent ID                97498 non-null  int64         \n",
      " 4   Request Category        97498 non-null  object        \n",
      " 5   Issue Type              97498 non-null  object        \n",
      " 6   Severity                97498 non-null  object        \n",
      " 7   Priority                97498 non-null  object        \n",
      " 8   Resolution Time (Days)  97498 non-null  int64         \n",
      " 9   Satisfaction Rate       97498 non-null  int64         \n",
      "dtypes: datetime64[ns](1), int64(4), object(5)\n",
      "memory usage: 7.4+ MB\n"
     ]
    }
   ],
   "source": [
    "data.info()"
   ]
  },
  {
   "cell_type": "code",
   "execution_count": 13,
   "id": "2b86a8b9",
   "metadata": {},
   "outputs": [
    {
     "name": "stdout",
     "output_type": "stream",
     "text": [
      "<class 'pandas.core.frame.DataFrame'>\n",
      "RangeIndex: 50 entries, 0 to 49\n",
      "Data columns (total 6 columns):\n",
      " #   Column          Non-Null Count  Dtype \n",
      "---  ------          --------------  ----- \n",
      " 0   Agent ID        50 non-null     int64 \n",
      " 1   Full Name       50 non-null     object\n",
      " 2   Email           50 non-null     object\n",
      " 3   Year of Birth   50 non-null     int64 \n",
      " 4   Month of Birth  50 non-null     int64 \n",
      " 5   Day of Birth    50 non-null     int64 \n",
      "dtypes: int64(4), object(2)\n",
      "memory usage: 2.5+ KB\n"
     ]
    }
   ],
   "source": [
    "agents.info()"
   ]
  },
  {
   "cell_type": "code",
   "execution_count": 14,
   "id": "b4a267ba",
   "metadata": {},
   "outputs": [
    {
     "data": {
      "text/html": [
       "<div>\n",
       "<style scoped>\n",
       "    .dataframe tbody tr th:only-of-type {\n",
       "        vertical-align: middle;\n",
       "    }\n",
       "\n",
       "    .dataframe tbody tr th {\n",
       "        vertical-align: top;\n",
       "    }\n",
       "\n",
       "    .dataframe thead th {\n",
       "        text-align: right;\n",
       "    }\n",
       "</style>\n",
       "<table border=\"1\" class=\"dataframe\">\n",
       "  <thead>\n",
       "    <tr style=\"text-align: right;\">\n",
       "      <th></th>\n",
       "      <th>ID Ticket</th>\n",
       "      <th>Fecha</th>\n",
       "      <th>Employee ID</th>\n",
       "      <th>Agent ID</th>\n",
       "      <th>Request Category</th>\n",
       "      <th>Issue Type</th>\n",
       "      <th>Severity</th>\n",
       "      <th>Priority</th>\n",
       "      <th>Resolution Time (Days)</th>\n",
       "      <th>Satisfaction Rate</th>\n",
       "    </tr>\n",
       "  </thead>\n",
       "  <tbody>\n",
       "    <tr>\n",
       "      <th>count</th>\n",
       "      <td>97498</td>\n",
       "      <td>97498</td>\n",
       "      <td>97498.000000</td>\n",
       "      <td>97498.000000</td>\n",
       "      <td>97498</td>\n",
       "      <td>97498</td>\n",
       "      <td>97498</td>\n",
       "      <td>97498</td>\n",
       "      <td>97498.000000</td>\n",
       "      <td>97498.000000</td>\n",
       "    </tr>\n",
       "    <tr>\n",
       "      <th>unique</th>\n",
       "      <td>97498</td>\n",
       "      <td>1827</td>\n",
       "      <td>NaN</td>\n",
       "      <td>NaN</td>\n",
       "      <td>4</td>\n",
       "      <td>2</td>\n",
       "      <td>5</td>\n",
       "      <td>4</td>\n",
       "      <td>NaN</td>\n",
       "      <td>NaN</td>\n",
       "    </tr>\n",
       "    <tr>\n",
       "      <th>top</th>\n",
       "      <td>GDDENR-5042564453</td>\n",
       "      <td>2020-02-20 00:00:00</td>\n",
       "      <td>NaN</td>\n",
       "      <td>NaN</td>\n",
       "      <td>System</td>\n",
       "      <td>IT Request</td>\n",
       "      <td>2 - Normal</td>\n",
       "      <td>3 - High</td>\n",
       "      <td>NaN</td>\n",
       "      <td>NaN</td>\n",
       "    </tr>\n",
       "    <tr>\n",
       "      <th>freq</th>\n",
       "      <td>1</td>\n",
       "      <td>105</td>\n",
       "      <td>NaN</td>\n",
       "      <td>NaN</td>\n",
       "      <td>39002</td>\n",
       "      <td>73220</td>\n",
       "      <td>88656</td>\n",
       "      <td>35549</td>\n",
       "      <td>NaN</td>\n",
       "      <td>NaN</td>\n",
       "    </tr>\n",
       "    <tr>\n",
       "      <th>first</th>\n",
       "      <td>NaN</td>\n",
       "      <td>2016-01-01 00:00:00</td>\n",
       "      <td>NaN</td>\n",
       "      <td>NaN</td>\n",
       "      <td>NaN</td>\n",
       "      <td>NaN</td>\n",
       "      <td>NaN</td>\n",
       "      <td>NaN</td>\n",
       "      <td>NaN</td>\n",
       "      <td>NaN</td>\n",
       "    </tr>\n",
       "    <tr>\n",
       "      <th>last</th>\n",
       "      <td>NaN</td>\n",
       "      <td>2020-12-31 00:00:00</td>\n",
       "      <td>NaN</td>\n",
       "      <td>NaN</td>\n",
       "      <td>NaN</td>\n",
       "      <td>NaN</td>\n",
       "      <td>NaN</td>\n",
       "      <td>NaN</td>\n",
       "      <td>NaN</td>\n",
       "      <td>NaN</td>\n",
       "    </tr>\n",
       "    <tr>\n",
       "      <th>mean</th>\n",
       "      <td>NaN</td>\n",
       "      <td>NaN</td>\n",
       "      <td>999.285021</td>\n",
       "      <td>25.468328</td>\n",
       "      <td>NaN</td>\n",
       "      <td>NaN</td>\n",
       "      <td>NaN</td>\n",
       "      <td>NaN</td>\n",
       "      <td>4.553150</td>\n",
       "      <td>4.100648</td>\n",
       "    </tr>\n",
       "    <tr>\n",
       "      <th>std</th>\n",
       "      <td>NaN</td>\n",
       "      <td>NaN</td>\n",
       "      <td>577.401512</td>\n",
       "      <td>14.449695</td>\n",
       "      <td>NaN</td>\n",
       "      <td>NaN</td>\n",
       "      <td>NaN</td>\n",
       "      <td>NaN</td>\n",
       "      <td>4.365518</td>\n",
       "      <td>1.257348</td>\n",
       "    </tr>\n",
       "    <tr>\n",
       "      <th>min</th>\n",
       "      <td>NaN</td>\n",
       "      <td>NaN</td>\n",
       "      <td>1.000000</td>\n",
       "      <td>1.000000</td>\n",
       "      <td>NaN</td>\n",
       "      <td>NaN</td>\n",
       "      <td>NaN</td>\n",
       "      <td>NaN</td>\n",
       "      <td>0.000000</td>\n",
       "      <td>1.000000</td>\n",
       "    </tr>\n",
       "    <tr>\n",
       "      <th>25%</th>\n",
       "      <td>NaN</td>\n",
       "      <td>NaN</td>\n",
       "      <td>500.000000</td>\n",
       "      <td>13.000000</td>\n",
       "      <td>NaN</td>\n",
       "      <td>NaN</td>\n",
       "      <td>NaN</td>\n",
       "      <td>NaN</td>\n",
       "      <td>0.000000</td>\n",
       "      <td>4.000000</td>\n",
       "    </tr>\n",
       "    <tr>\n",
       "      <th>50%</th>\n",
       "      <td>NaN</td>\n",
       "      <td>NaN</td>\n",
       "      <td>999.000000</td>\n",
       "      <td>26.000000</td>\n",
       "      <td>NaN</td>\n",
       "      <td>NaN</td>\n",
       "      <td>NaN</td>\n",
       "      <td>NaN</td>\n",
       "      <td>4.000000</td>\n",
       "      <td>5.000000</td>\n",
       "    </tr>\n",
       "    <tr>\n",
       "      <th>75%</th>\n",
       "      <td>NaN</td>\n",
       "      <td>NaN</td>\n",
       "      <td>1499.000000</td>\n",
       "      <td>38.000000</td>\n",
       "      <td>NaN</td>\n",
       "      <td>NaN</td>\n",
       "      <td>NaN</td>\n",
       "      <td>NaN</td>\n",
       "      <td>7.000000</td>\n",
       "      <td>5.000000</td>\n",
       "    </tr>\n",
       "    <tr>\n",
       "      <th>max</th>\n",
       "      <td>NaN</td>\n",
       "      <td>NaN</td>\n",
       "      <td>2000.000000</td>\n",
       "      <td>50.000000</td>\n",
       "      <td>NaN</td>\n",
       "      <td>NaN</td>\n",
       "      <td>NaN</td>\n",
       "      <td>NaN</td>\n",
       "      <td>21.000000</td>\n",
       "      <td>5.000000</td>\n",
       "    </tr>\n",
       "  </tbody>\n",
       "</table>\n",
       "</div>"
      ],
      "text/plain": [
       "                ID Ticket                Fecha   Employee ID      Agent ID  \\\n",
       "count               97498                97498  97498.000000  97498.000000   \n",
       "unique              97498                 1827           NaN           NaN   \n",
       "top     GDDENR-5042564453  2020-02-20 00:00:00           NaN           NaN   \n",
       "freq                    1                  105           NaN           NaN   \n",
       "first                 NaN  2016-01-01 00:00:00           NaN           NaN   \n",
       "last                  NaN  2020-12-31 00:00:00           NaN           NaN   \n",
       "mean                  NaN                  NaN    999.285021     25.468328   \n",
       "std                   NaN                  NaN    577.401512     14.449695   \n",
       "min                   NaN                  NaN      1.000000      1.000000   \n",
       "25%                   NaN                  NaN    500.000000     13.000000   \n",
       "50%                   NaN                  NaN    999.000000     26.000000   \n",
       "75%                   NaN                  NaN   1499.000000     38.000000   \n",
       "max                   NaN                  NaN   2000.000000     50.000000   \n",
       "\n",
       "       Request Category  Issue Type    Severity  Priority  \\\n",
       "count             97498       97498       97498     97498   \n",
       "unique                4           2           5         4   \n",
       "top              System  IT Request  2 - Normal  3 - High   \n",
       "freq              39002       73220       88656     35549   \n",
       "first               NaN         NaN         NaN       NaN   \n",
       "last                NaN         NaN         NaN       NaN   \n",
       "mean                NaN         NaN         NaN       NaN   \n",
       "std                 NaN         NaN         NaN       NaN   \n",
       "min                 NaN         NaN         NaN       NaN   \n",
       "25%                 NaN         NaN         NaN       NaN   \n",
       "50%                 NaN         NaN         NaN       NaN   \n",
       "75%                 NaN         NaN         NaN       NaN   \n",
       "max                 NaN         NaN         NaN       NaN   \n",
       "\n",
       "        Resolution Time (Days)  Satisfaction Rate  \n",
       "count             97498.000000       97498.000000  \n",
       "unique                     NaN                NaN  \n",
       "top                        NaN                NaN  \n",
       "freq                       NaN                NaN  \n",
       "first                      NaN                NaN  \n",
       "last                       NaN                NaN  \n",
       "mean                  4.553150           4.100648  \n",
       "std                   4.365518           1.257348  \n",
       "min                   0.000000           1.000000  \n",
       "25%                   0.000000           4.000000  \n",
       "50%                   4.000000           5.000000  \n",
       "75%                   7.000000           5.000000  \n",
       "max                  21.000000           5.000000  "
      ]
     },
     "execution_count": 14,
     "metadata": {},
     "output_type": "execute_result"
    }
   ],
   "source": [
    "data.describe(include = 'all')"
   ]
  },
  {
   "cell_type": "code",
   "execution_count": 15,
   "id": "e0ad6a65",
   "metadata": {},
   "outputs": [
    {
     "data": {
      "text/html": [
       "<div>\n",
       "<style scoped>\n",
       "    .dataframe tbody tr th:only-of-type {\n",
       "        vertical-align: middle;\n",
       "    }\n",
       "\n",
       "    .dataframe tbody tr th {\n",
       "        vertical-align: top;\n",
       "    }\n",
       "\n",
       "    .dataframe thead th {\n",
       "        text-align: right;\n",
       "    }\n",
       "</style>\n",
       "<table border=\"1\" class=\"dataframe\">\n",
       "  <thead>\n",
       "    <tr style=\"text-align: right;\">\n",
       "      <th></th>\n",
       "      <th>Agent ID</th>\n",
       "      <th>Full Name</th>\n",
       "      <th>Email</th>\n",
       "      <th>Year of Birth</th>\n",
       "      <th>Month of Birth</th>\n",
       "      <th>Day of Birth</th>\n",
       "    </tr>\n",
       "  </thead>\n",
       "  <tbody>\n",
       "    <tr>\n",
       "      <th>count</th>\n",
       "      <td>50.00000</td>\n",
       "      <td>50</td>\n",
       "      <td>50</td>\n",
       "      <td>50.000000</td>\n",
       "      <td>50.000000</td>\n",
       "      <td>50.000000</td>\n",
       "    </tr>\n",
       "    <tr>\n",
       "      <th>unique</th>\n",
       "      <td>NaN</td>\n",
       "      <td>50</td>\n",
       "      <td>50</td>\n",
       "      <td>NaN</td>\n",
       "      <td>NaN</td>\n",
       "      <td>NaN</td>\n",
       "    </tr>\n",
       "    <tr>\n",
       "      <th>top</th>\n",
       "      <td>NaN</td>\n",
       "      <td>Mata Lucero</td>\n",
       "      <td>lucero.mata@fp20analytics.com</td>\n",
       "      <td>NaN</td>\n",
       "      <td>NaN</td>\n",
       "      <td>NaN</td>\n",
       "    </tr>\n",
       "    <tr>\n",
       "      <th>freq</th>\n",
       "      <td>NaN</td>\n",
       "      <td>1</td>\n",
       "      <td>1</td>\n",
       "      <td>NaN</td>\n",
       "      <td>NaN</td>\n",
       "      <td>NaN</td>\n",
       "    </tr>\n",
       "    <tr>\n",
       "      <th>mean</th>\n",
       "      <td>25.50000</td>\n",
       "      <td>NaN</td>\n",
       "      <td>NaN</td>\n",
       "      <td>1984.600000</td>\n",
       "      <td>6.420000</td>\n",
       "      <td>15.300000</td>\n",
       "    </tr>\n",
       "    <tr>\n",
       "      <th>std</th>\n",
       "      <td>14.57738</td>\n",
       "      <td>NaN</td>\n",
       "      <td>NaN</td>\n",
       "      <td>7.483315</td>\n",
       "      <td>3.270711</td>\n",
       "      <td>8.379397</td>\n",
       "    </tr>\n",
       "    <tr>\n",
       "      <th>min</th>\n",
       "      <td>1.00000</td>\n",
       "      <td>NaN</td>\n",
       "      <td>NaN</td>\n",
       "      <td>1971.000000</td>\n",
       "      <td>1.000000</td>\n",
       "      <td>1.000000</td>\n",
       "    </tr>\n",
       "    <tr>\n",
       "      <th>25%</th>\n",
       "      <td>13.25000</td>\n",
       "      <td>NaN</td>\n",
       "      <td>NaN</td>\n",
       "      <td>1980.000000</td>\n",
       "      <td>4.000000</td>\n",
       "      <td>9.000000</td>\n",
       "    </tr>\n",
       "    <tr>\n",
       "      <th>50%</th>\n",
       "      <td>25.50000</td>\n",
       "      <td>NaN</td>\n",
       "      <td>NaN</td>\n",
       "      <td>1983.000000</td>\n",
       "      <td>6.000000</td>\n",
       "      <td>16.000000</td>\n",
       "    </tr>\n",
       "    <tr>\n",
       "      <th>75%</th>\n",
       "      <td>37.75000</td>\n",
       "      <td>NaN</td>\n",
       "      <td>NaN</td>\n",
       "      <td>1991.000000</td>\n",
       "      <td>10.000000</td>\n",
       "      <td>21.000000</td>\n",
       "    </tr>\n",
       "    <tr>\n",
       "      <th>max</th>\n",
       "      <td>50.00000</td>\n",
       "      <td>NaN</td>\n",
       "      <td>NaN</td>\n",
       "      <td>1996.000000</td>\n",
       "      <td>12.000000</td>\n",
       "      <td>30.000000</td>\n",
       "    </tr>\n",
       "  </tbody>\n",
       "</table>\n",
       "</div>"
      ],
      "text/plain": [
       "        Agent ID    Full Name                          Email  Year of Birth  \\\n",
       "count   50.00000           50                             50      50.000000   \n",
       "unique       NaN           50                             50            NaN   \n",
       "top          NaN  Mata Lucero  lucero.mata@fp20analytics.com            NaN   \n",
       "freq         NaN            1                              1            NaN   \n",
       "mean    25.50000          NaN                            NaN    1984.600000   \n",
       "std     14.57738          NaN                            NaN       7.483315   \n",
       "min      1.00000          NaN                            NaN    1971.000000   \n",
       "25%     13.25000          NaN                            NaN    1980.000000   \n",
       "50%     25.50000          NaN                            NaN    1983.000000   \n",
       "75%     37.75000          NaN                            NaN    1991.000000   \n",
       "max     50.00000          NaN                            NaN    1996.000000   \n",
       "\n",
       "        Month of Birth  Day of Birth  \n",
       "count        50.000000     50.000000  \n",
       "unique             NaN           NaN  \n",
       "top                NaN           NaN  \n",
       "freq               NaN           NaN  \n",
       "mean          6.420000     15.300000  \n",
       "std           3.270711      8.379397  \n",
       "min           1.000000      1.000000  \n",
       "25%           4.000000      9.000000  \n",
       "50%           6.000000     16.000000  \n",
       "75%          10.000000     21.000000  \n",
       "max          12.000000     30.000000  "
      ]
     },
     "execution_count": 15,
     "metadata": {},
     "output_type": "execute_result"
    }
   ],
   "source": [
    "agents.describe(include = 'all')"
   ]
  },
  {
   "cell_type": "code",
   "execution_count": 16,
   "id": "a13ab597",
   "metadata": {},
   "outputs": [
    {
     "data": {
      "text/plain": [
       "ID Ticket                 0\n",
       "Fecha                     0\n",
       "Employee ID               0\n",
       "Agent ID                  0\n",
       "Request Category          0\n",
       "Issue Type                0\n",
       "Severity                  0\n",
       "Priority                  0\n",
       "Resolution Time (Days)    0\n",
       "Satisfaction Rate         0\n",
       "dtype: int64"
      ]
     },
     "execution_count": 16,
     "metadata": {},
     "output_type": "execute_result"
    }
   ],
   "source": [
    "data.isnull().sum()"
   ]
  },
  {
   "cell_type": "code",
   "execution_count": 17,
   "id": "7a9e1eb6",
   "metadata": {},
   "outputs": [
    {
     "data": {
      "text/plain": [
       "Agent ID          0\n",
       "Full Name         0\n",
       "Email             0\n",
       "Year of Birth     0\n",
       "Month of Birth    0\n",
       "Day of Birth      0\n",
       "dtype: int64"
      ]
     },
     "execution_count": 17,
     "metadata": {},
     "output_type": "execute_result"
    }
   ],
   "source": [
    "agents.isnull().sum()"
   ]
  },
  {
   "cell_type": "code",
   "execution_count": 18,
   "id": "bdab73dc",
   "metadata": {},
   "outputs": [],
   "source": [
    "# To check the unique values in a specific column\n",
    "\n",
    "unique_values = agents['Full Name'].unique()\n",
    "#print(unique_values)"
   ]
  },
  {
   "cell_type": "code",
   "execution_count": 19,
   "id": "0a187bd2",
   "metadata": {},
   "outputs": [],
   "source": [
    "# To check the unique values in a specific column\n",
    "\n",
    "unique_values = data['Resolution Time (Days)'].unique()\n",
    "#print(unique_values)"
   ]
  },
  {
   "cell_type": "code",
   "execution_count": null,
   "id": "a33d70c4",
   "metadata": {},
   "outputs": [],
   "source": []
  },
  {
   "cell_type": "markdown",
   "id": "84afcb6e",
   "metadata": {},
   "source": [
    "# Data Cleaning !!!"
   ]
  },
  {
   "cell_type": "code",
   "execution_count": 20,
   "id": "bb25037f",
   "metadata": {},
   "outputs": [],
   "source": [
    "#1. In the first dataset\n",
    "# Rename the column 'Fecha' in the tickets dataset to ' Date when the ticket was created'\n",
    "\n",
    "data = data.rename(columns = {'Fecha' : 'Date_ticket_created'})"
   ]
  },
  {
   "cell_type": "code",
   "execution_count": 21,
   "id": "5efd58b5",
   "metadata": {},
   "outputs": [],
   "source": [
    "# Column Full Name is to be split into 2 columns Name and Last Name\n",
    "\n",
    "agents[['Name', 'Last Name']] = agents['Full Name'].str.split(' ', n=1, expand=True) # Split Fullname"
   ]
  },
  {
   "cell_type": "code",
   "execution_count": 22,
   "id": "4be78aa3",
   "metadata": {},
   "outputs": [],
   "source": [
    "# Replace missing last names from the email address column \n",
    "\n",
    "last_names_missing = agents[agents['Last Name'].isnull()]\n",
    "last_names_missing['Last Name'] = last_names_missing['Email'].apply(lambda email: email.split('@')[0])"
   ]
  },
  {
   "cell_type": "code",
   "execution_count": 23,
   "id": "a93667ad",
   "metadata": {},
   "outputs": [],
   "source": [
    "## Name and Last name columns must be Capitalised first words and trimmed.\n",
    "\n",
    "agents['Name'] = agents['Full Name'].apply(lambda x: ' '.join([name.capitalize() for name in x.split()[:-1]]))\n",
    "agents['Last Name'] = agents.apply(lambda row: row['Full Name'].split()[-1].capitalize(), axis=1)"
   ]
  },
  {
   "cell_type": "code",
   "execution_count": 36,
   "id": "52d45952",
   "metadata": {},
   "outputs": [],
   "source": [
    "## Few names from the Agents dataset still needs to be corrected\n",
    "\n",
    "#agents.loc[5, 'Full Name'] = agents.loc[5, 'Full Name'].replace('A', 'Alberto')\n",
    "#agents.loc[5, 'Name'] = agents.loc[5, 'Name'].replace('A', 'Alberto')\n",
    "#agents.loc[1, 'Last Name'] = agents.loc[1, 'Last Name'].replace('Jesusgrajeda', 'Grajeda')\n",
    "#agents.loc[1, 'Name'] = agents.loc[1, 'Name'].replace('', 'Jesus')\n",
    "#agents.loc[13, 'Last Name'] = agents.loc[13, 'Last Name'].replace('Estuardotorres', 'Torres')\n",
    "#agents.loc[13, 'Name'] = agents.loc[13, 'Name'].replace('Javier', 'Estuardo')\n",
    "#agents.loc[13, 'Last Name'] = agents.loc[13, 'Last Name'].replace('Galindo', 'Torres')\n",
    "#agents.loc[20, 'Last Name'] = agents.loc[20, 'Last Name'].replace('Lorena', 'Leon')\n",
    "#agents.loc[20, 'Name'] = agents.loc[20, 'Name'].replace('', 'Lorena')\n",
    "#agents.loc[33, 'Last Name'] = agents.loc[33, 'Last Name'].replace('', 'Melinda')\n",
    "#agents.loc[33, 'Name'] = agents.loc[33, 'Name'].replace('Melinda', 'Barcelo')\n",
    "#agents.loc[10, 'Last Name'] = agents.loc[10, 'Last Name'].replace('D.', 'Davila')\n",
    "#agents.loc[40, 'Last Name'] = agents.loc[40, 'Last Name'].replace('E.', 'Echeverry')"
   ]
  },
  {
   "cell_type": "code",
   "execution_count": null,
   "id": "7cb0a0a7",
   "metadata": {},
   "outputs": [],
   "source": []
  },
  {
   "cell_type": "markdown",
   "id": "2f2d670a",
   "metadata": {},
   "source": [
    "#### Year/Month/Date of birth must be in one Column - data type Date."
   ]
  },
  {
   "cell_type": "code",
   "execution_count": 26,
   "id": "1c23be54",
   "metadata": {},
   "outputs": [],
   "source": [
    "# Change the data types to strings to enable esasy concatenating \n",
    "\n",
    "agents['Year of Birth'] = agents['Year of Birth'].astype(str)\n",
    "agents['Month of Birth'] = agents['Month of Birth'].astype(str)\n",
    "agents['Day of Birth'] = agents['Day of Birth'].astype(str)\n",
    "\n",
    "# Concatenate the 3 columns to form the 'Date of Birth' column\n",
    "agents['Date of Birth'] = agents['Year of Birth'] + '-' + agents['Month of Birth'] + '-' + agents['Day of Birth']"
   ]
  },
  {
   "cell_type": "code",
   "execution_count": 27,
   "id": "e1acd4e7",
   "metadata": {},
   "outputs": [],
   "source": [
    "# Convert the 'Date of Birth' column back to datetime format\n",
    "\n",
    "agents['Date of Birth'] = pd.to_datetime(agents['Date of Birth'], format='%Y-%m-%d')"
   ]
  },
  {
   "cell_type": "markdown",
   "id": "51aa220c",
   "metadata": {},
   "source": [
    "#### The client would also like to know the Age of the Agents from the Agents' DOB to 31/12/2020"
   ]
  },
  {
   "cell_type": "code",
   "execution_count": 28,
   "id": "702a9ef9",
   "metadata": {},
   "outputs": [],
   "source": [
    "given_date = pd.to_datetime('2020-12-31')\n",
    "agents['Age'] = (given_date - agents['Date of Birth']).dt.days // 365"
   ]
  },
  {
   "cell_type": "code",
   "execution_count": 39,
   "id": "f2efaf95",
   "metadata": {},
   "outputs": [],
   "source": [
    "#agents.loc[11, 'Last Name'] = agents.loc[11, 'Last Name'].replace('D.', 'Davila')\n",
    "#agents.loc[41, 'Last Name'] = agents.loc[40, 'Last Name'].replace('E.', 'Echeverry')"
   ]
  },
  {
   "cell_type": "code",
   "execution_count": 42,
   "id": "f5a7efff",
   "metadata": {},
   "outputs": [],
   "source": [
    "# Drop all duplicated or irrelevant columns\n",
    "\n",
    "agents.drop(columns=['Full Name'], inplace=True)\n",
    "agents.drop(['Year of Birth', 'Month of Birth', 'Day of Birth'], axis=1, inplace=True)\n",
    "agents.drop('Date of Birth', axis=1, inplace=True)"
   ]
  },
  {
   "cell_type": "code",
   "execution_count": 44,
   "id": "7e1ad394",
   "metadata": {},
   "outputs": [],
   "source": [
    "## MY Clean_Agents_data\n",
    "\n",
    "#agents"
   ]
  },
  {
   "cell_type": "code",
   "execution_count": null,
   "id": "81d4bc2a",
   "metadata": {},
   "outputs": [],
   "source": []
  },
  {
   "cell_type": "markdown",
   "id": "635f9373",
   "metadata": {},
   "source": [
    "# SQLite on Jupyter Notebook!!!"
   ]
  },
  {
   "cell_type": "code",
   "execution_count": 45,
   "id": "dea89c2f",
   "metadata": {},
   "outputs": [],
   "source": [
    "# Connect SQLite3 Library and create a connection\n",
    "\n",
    "connection = sqlite3.connect('demo.db')"
   ]
  },
  {
   "cell_type": "code",
   "execution_count": 47,
   "id": "601a5dda",
   "metadata": {},
   "outputs": [
    {
     "data": {
      "text/plain": [
       "97498"
      ]
     },
     "execution_count": 47,
     "metadata": {},
     "output_type": "execute_result"
    }
   ],
   "source": [
    "\n",
    "data.to_sql('data', connection) # my choice name = data"
   ]
  },
  {
   "cell_type": "code",
   "execution_count": 49,
   "id": "194ca404",
   "metadata": {},
   "outputs": [
    {
     "data": {
      "text/plain": [
       "50"
      ]
     },
     "execution_count": 49,
     "metadata": {},
     "output_type": "execute_result"
    }
   ],
   "source": [
    "\n",
    "agents.to_sql('agents', connection) # my choice name = agents"
   ]
  },
  {
   "cell_type": "code",
   "execution_count": 50,
   "id": "458130da",
   "metadata": {},
   "outputs": [],
   "source": [
    "# Load the SQL module to iPython\n",
    "\n",
    "%load_ext sql"
   ]
  },
  {
   "cell_type": "code",
   "execution_count": 51,
   "id": "2e4ed1a2",
   "metadata": {},
   "outputs": [],
   "source": [
    "%sql sqlite:///demo.db"
   ]
  },
  {
   "cell_type": "code",
   "execution_count": 53,
   "id": "144287ca",
   "metadata": {},
   "outputs": [
    {
     "name": "stdout",
     "output_type": "stream",
     "text": [
      " * sqlite:///demo.db\n",
      "Done.\n"
     ]
    },
    {
     "data": {
      "text/html": [
       "<table>\n",
       "    <thead>\n",
       "        <tr>\n",
       "            <th>index</th>\n",
       "            <th>ID Ticket</th>\n",
       "            <th>Date_ticket_created</th>\n",
       "            <th>Employee ID</th>\n",
       "            <th>Agent ID</th>\n",
       "            <th>Request Category</th>\n",
       "            <th>Issue Type</th>\n",
       "            <th>Severity</th>\n",
       "            <th>Priority</th>\n",
       "            <th>Resolution Time (Days)</th>\n",
       "            <th>Satisfaction Rate</th>\n",
       "        </tr>\n",
       "    </thead>\n",
       "    <tbody>\n",
       "        <tr>\n",
       "            <td>0</td>\n",
       "            <td>GDDENR-5042564453</td>\n",
       "            <td>2016-07-13 00:00:00</td>\n",
       "            <td>1735</td>\n",
       "            <td>4</td>\n",
       "            <td>Login Access</td>\n",
       "            <td>IT Error</td>\n",
       "            <td>0 - Unclasified</td>\n",
       "            <td>0 - Unassiged</td>\n",
       "            <td>0</td>\n",
       "            <td>5</td>\n",
       "        </tr>\n",
       "        <tr>\n",
       "            <td>1</td>\n",
       "            <td>GDDENR-8042508060</td>\n",
       "            <td>2016-05-18 00:00:00</td>\n",
       "            <td>1566</td>\n",
       "            <td>10</td>\n",
       "            <td>Login Access</td>\n",
       "            <td>IT Error</td>\n",
       "            <td>0 - Unclasified</td>\n",
       "            <td>0 - Unassiged</td>\n",
       "            <td>0</td>\n",
       "            <td>5</td>\n",
       "        </tr>\n",
       "        <tr>\n",
       "            <td>2</td>\n",
       "            <td>GDDESR-1342539995</td>\n",
       "            <td>2016-06-18 00:00:00</td>\n",
       "            <td>569</td>\n",
       "            <td>29</td>\n",
       "            <td>System</td>\n",
       "            <td>IT Error</td>\n",
       "            <td>0 - Unclasified</td>\n",
       "            <td>0 - Unassiged</td>\n",
       "            <td>3</td>\n",
       "            <td>5</td>\n",
       "        </tr>\n",
       "        <tr>\n",
       "            <td>3</td>\n",
       "            <td>GDDTSR-5942488006</td>\n",
       "            <td>2016-04-28 00:00:00</td>\n",
       "            <td>320</td>\n",
       "            <td>40</td>\n",
       "            <td>System</td>\n",
       "            <td>IT Request</td>\n",
       "            <td>0 - Unclasified</td>\n",
       "            <td>0 - Unassiged</td>\n",
       "            <td>9</td>\n",
       "            <td>5</td>\n",
       "        </tr>\n",
       "        <tr>\n",
       "            <td>4</td>\n",
       "            <td>GDLEER-0042524120</td>\n",
       "            <td>2016-06-03 00:00:00</td>\n",
       "            <td>1842</td>\n",
       "            <td>31</td>\n",
       "            <td>Software</td>\n",
       "            <td>IT Error</td>\n",
       "            <td>2 - Normal</td>\n",
       "            <td>0 - Unassiged</td>\n",
       "            <td>0</td>\n",
       "            <td>5</td>\n",
       "        </tr>\n",
       "    </tbody>\n",
       "</table>"
      ],
      "text/plain": [
       "[(0, 'GDDENR-5042564453', '2016-07-13 00:00:00', 1735, 4, 'Login Access', 'IT Error', '0 - Unclasified', '0 - Unassiged', 0, 5),\n",
       " (1, 'GDDENR-8042508060', '2016-05-18 00:00:00', 1566, 10, 'Login Access', 'IT Error', '0 - Unclasified', '0 - Unassiged', 0, 5),\n",
       " (2, 'GDDESR-1342539995', '2016-06-18 00:00:00', 569, 29, 'System', 'IT Error', '0 - Unclasified', '0 - Unassiged', 3, 5),\n",
       " (3, 'GDDTSR-5942488006', '2016-04-28 00:00:00', 320, 40, 'System', 'IT Request', '0 - Unclasified', '0 - Unassiged', 9, 5),\n",
       " (4, 'GDLEER-0042524120', '2016-06-03 00:00:00', 1842, 31, 'Software', 'IT Error', '2 - Normal', '0 - Unassiged', 0, 5)]"
      ]
     },
     "execution_count": 53,
     "metadata": {},
     "output_type": "execute_result"
    }
   ],
   "source": [
    "%%sql\n",
    "\n",
    "SELECT *\n",
    "FROM data\n",
    "LIMIT 5;"
   ]
  },
  {
   "cell_type": "code",
   "execution_count": 54,
   "id": "5af5ee66",
   "metadata": {},
   "outputs": [
    {
     "name": "stdout",
     "output_type": "stream",
     "text": [
      " * sqlite:///demo.db\n",
      "Done.\n"
     ]
    },
    {
     "data": {
      "text/html": [
       "<table>\n",
       "    <thead>\n",
       "        <tr>\n",
       "            <th>index</th>\n",
       "            <th>Agent ID</th>\n",
       "            <th>Email</th>\n",
       "            <th>Name</th>\n",
       "            <th>Last Name</th>\n",
       "            <th>Age</th>\n",
       "        </tr>\n",
       "    </thead>\n",
       "    <tbody>\n",
       "        <tr>\n",
       "            <td>0</td>\n",
       "            <td>1</td>\n",
       "            <td>lucero.mata@fp20analytics.com</td>\n",
       "            <td>Mata</td>\n",
       "            <td>Lucero</td>\n",
       "            <td>31</td>\n",
       "        </tr>\n",
       "        <tr>\n",
       "            <td>1</td>\n",
       "            <td>2</td>\n",
       "            <td>jesus.grajeda@fp20analytics.com</td>\n",
       "            <td>Jesus</td>\n",
       "            <td>Grajeda</td>\n",
       "            <td>42</td>\n",
       "        </tr>\n",
       "        <tr>\n",
       "            <td>2</td>\n",
       "            <td>3</td>\n",
       "            <td>elena.velez@fp20analytics.com</td>\n",
       "            <td>Elena</td>\n",
       "            <td>Velez</td>\n",
       "            <td>27</td>\n",
       "        </tr>\n",
       "    </tbody>\n",
       "</table>"
      ],
      "text/plain": [
       "[(0, 1, 'lucero.mata@fp20analytics.com', 'Mata', 'Lucero', 31),\n",
       " (1, 2, 'jesus.grajeda@fp20analytics.com', 'Jesus', 'Grajeda', 42),\n",
       " (2, 3, 'elena.velez@fp20analytics.com', 'Elena', 'Velez', 27)]"
      ]
     },
     "execution_count": 54,
     "metadata": {},
     "output_type": "execute_result"
    }
   ],
   "source": [
    "%%sql\n",
    "\n",
    "SELECT *\n",
    "FROM agents\n",
    "LIMIT 3;"
   ]
  },
  {
   "cell_type": "code",
   "execution_count": 80,
   "id": "868acd2d",
   "metadata": {},
   "outputs": [
    {
     "name": "stdout",
     "output_type": "stream",
     "text": [
      "[31 42 27 47 32 40 44 24 25 38 49 30 37 34 48 33 45 35 46 29 36 41]\n"
     ]
    }
   ],
   "source": [
    "# To check the unique values in a specific column\n",
    "\n",
    "unique_values = agents['Age'].unique()\n",
    "print(unique_values)"
   ]
  },
  {
   "cell_type": "code",
   "execution_count": 123,
   "id": "2e11a4f0",
   "metadata": {},
   "outputs": [
    {
     "name": "stdout",
     "output_type": "stream",
     "text": [
      "[5 1 4 3 2]\n"
     ]
    }
   ],
   "source": [
    "# To check the unique values in a specific column\n",
    "\n",
    "unique_values = data['Satisfaction Rate'].unique()\n",
    "print(unique_values)"
   ]
  },
  {
   "cell_type": "code",
   "execution_count": null,
   "id": "9ffb2ddf",
   "metadata": {},
   "outputs": [],
   "source": []
  },
  {
   "cell_type": "code",
   "execution_count": null,
   "id": "90eb0ebd",
   "metadata": {},
   "outputs": [],
   "source": []
  },
  {
   "cell_type": "markdown",
   "id": "1640d7c6",
   "metadata": {},
   "source": [
    "# SQL Query(s) & Visualisation"
   ]
  },
  {
   "cell_type": "code",
   "execution_count": null,
   "id": "133058ca",
   "metadata": {},
   "outputs": [],
   "source": []
  },
  {
   "cell_type": "markdown",
   "id": "41a1f091",
   "metadata": {},
   "source": [
    "### Key Performance Indicator - KPI (Employee dataset)"
   ]
  },
  {
   "cell_type": "code",
   "execution_count": 101,
   "id": "d50a72fa",
   "metadata": {},
   "outputs": [
    {
     "name": "stdout",
     "output_type": "stream",
     "text": [
      " * sqlite:///demo.db\n",
      "Done.\n"
     ]
    },
    {
     "data": {
      "text/html": [
       "<table>\n",
       "    <thead>\n",
       "        <tr>\n",
       "            <th>Total_Employee</th>\n",
       "            <th>Total_tickets_raised</th>\n",
       "            <th>Average Resolution Days </th>\n",
       "            <th>Average Satisfaction Rate</th>\n",
       "        </tr>\n",
       "    </thead>\n",
       "    <tbody>\n",
       "        <tr>\n",
       "            <td>2000</td>\n",
       "            <td>97498</td>\n",
       "            <td>4.553149808201194</td>\n",
       "            <td>4.100648218424993</td>\n",
       "        </tr>\n",
       "    </tbody>\n",
       "</table>"
      ],
      "text/plain": [
       "[(2000, 97498, 4.553149808201194, 4.100648218424993)]"
      ]
     },
     "execution_count": 101,
     "metadata": {},
     "output_type": "execute_result"
    }
   ],
   "source": [
    "%%sql\n",
    "\n",
    "SELECT COUNT(DISTINCT \"Employee ID\") AS \"Total_Employee\", COUNT(\"ID Ticket\") AS Total_tickets_raised, AVG(\"Resolution Time (Days)\") AS \"Average Resolution Days \", AVG(\"Satisfaction Rate\") AS \"Average Satisfaction Rate\"\n",
    "FROM data;"
   ]
  },
  {
   "cell_type": "code",
   "execution_count": null,
   "id": "23e2ef9c",
   "metadata": {},
   "outputs": [],
   "source": []
  },
  {
   "cell_type": "markdown",
   "id": "0936959e",
   "metadata": {},
   "source": [
    "### Key Performance Indicator - KPI (Agents dataset)"
   ]
  },
  {
   "cell_type": "code",
   "execution_count": 97,
   "id": "6e7fb354",
   "metadata": {},
   "outputs": [
    {
     "name": "stdout",
     "output_type": "stream",
     "text": [
      " * sqlite:///demo.db\n",
      "Done.\n"
     ]
    },
    {
     "data": {
      "text/html": [
       "<table>\n",
       "    <thead>\n",
       "        <tr>\n",
       "            <th>Total Agents</th>\n",
       "            <th>Avg Agents Age </th>\n",
       "        </tr>\n",
       "    </thead>\n",
       "    <tbody>\n",
       "        <tr>\n",
       "            <td>50</td>\n",
       "            <td>35.44</td>\n",
       "        </tr>\n",
       "    </tbody>\n",
       "</table>"
      ],
      "text/plain": [
       "[(50, 35.44)]"
      ]
     },
     "execution_count": 97,
     "metadata": {},
     "output_type": "execute_result"
    }
   ],
   "source": [
    "%%sql\n",
    "\n",
    "SELECT COUNT(\"Agent ID\") AS \"Total Agents\", AVG(\"Age\") AS \"Avg Agents Age \"\n",
    "FROM agents;"
   ]
  },
  {
   "cell_type": "code",
   "execution_count": null,
   "id": "e5069241",
   "metadata": {},
   "outputs": [],
   "source": []
  },
  {
   "cell_type": "markdown",
   "id": "06159daf",
   "metadata": {},
   "source": [
    "#### Top 5 Agents with the most resolved issues"
   ]
  },
  {
   "cell_type": "code",
   "execution_count": 153,
   "id": "0df89374",
   "metadata": {},
   "outputs": [
    {
     "name": "stdout",
     "output_type": "stream",
     "text": [
      " * sqlite:///demo.db\n",
      "Done.\n"
     ]
    },
    {
     "data": {
      "text/html": [
       "<table>\n",
       "    <thead>\n",
       "        <tr>\n",
       "            <th>Agent ID</th>\n",
       "            <th>Full Names</th>\n",
       "            <th>Resolved Issues</th>\n",
       "        </tr>\n",
       "    </thead>\n",
       "    <tbody>\n",
       "        <tr>\n",
       "            <td>1</td>\n",
       "            <td>Mata Lucero</td>\n",
       "            <td>1969</td>\n",
       "        </tr>\n",
       "        <tr>\n",
       "            <td>2</td>\n",
       "            <td>Jesus Grajeda</td>\n",
       "            <td>1968</td>\n",
       "        </tr>\n",
       "        <tr>\n",
       "            <td>3</td>\n",
       "            <td>Elena Velez</td>\n",
       "            <td>2021</td>\n",
       "        </tr>\n",
       "        <tr>\n",
       "            <td>4</td>\n",
       "            <td>Barraza Alberto</td>\n",
       "            <td>1988</td>\n",
       "        </tr>\n",
       "        <tr>\n",
       "            <td>5</td>\n",
       "            <td>Willyberto Gonzales</td>\n",
       "            <td>2000</td>\n",
       "        </tr>\n",
       "    </tbody>\n",
       "</table>"
      ],
      "text/plain": [
       "[(1, 'Mata Lucero', 1969),\n",
       " (2, 'Jesus Grajeda', 1968),\n",
       " (3, 'Elena Velez', 2021),\n",
       " (4, 'Barraza Alberto', 1988),\n",
       " (5, 'Willyberto Gonzales', 2000)]"
      ]
     },
     "execution_count": 153,
     "metadata": {},
     "output_type": "execute_result"
    }
   ],
   "source": [
    "%%sql\n",
    "\n",
    "SELECT a.\"Agent ID\", a.\"Name\" || ' ' || a.\"Last Name\" AS \"Full Names\", COUNT(*) AS \"Resolved Issues\"\n",
    "FROM agents a\n",
    "JOIN data d ON a.\"Agent ID\" = d.\"Agent ID\"\n",
    "WHERE d.\"Resolution Time (Days)\" >= 0 \n",
    "GROUP BY a.\"Agent ID\", \"Full Names\"\n",
    "ORDER BY \"Resolved Issues Count\" DESC\n",
    "LIMIT 5;"
   ]
  },
  {
   "cell_type": "code",
   "execution_count": 114,
   "id": "86371481",
   "metadata": {},
   "outputs": [
    {
     "data": {
      "image/png": "[encoded data removed]",
      "text/plain": [
       "<Figure size 640x480 with 1 Axes>"
      ]
     },
     "metadata": {},
     "output_type": "display_data"
    }
   ],
   "source": [
    "query = \"\"\"\n",
    "SELECT a.\"Agent ID\", a.\"Name\" || ' ' || a.\"Last Name\" AS \"Full Names\", COUNT(*) AS \"Resolved Issues Count\"\n",
    "FROM agents a\n",
    "JOIN data d ON a.\"Agent ID\" = d.\"Agent ID\"\n",
    "WHERE d.\"Resolution Time (Days)\" >= 0 -- Assuming non-negative values indicate resolved issues\n",
    "GROUP BY a.\"Agent ID\", \"Full Names\"\n",
    "ORDER BY \"Resolved Issues Count\" DESC\n",
    "LIMIT 5;\n",
    "\"\"\"\n",
    "top_agents_with_resolved_issues = pd.read_sql_query(query, connection)\n",
    "\n",
    "labels = top_agents_with_resolved_issues[\"Full Names\"]\n",
    "sizes = top_agents_with_resolved_issues[\"Resolved Issues Count\"]\n",
    "colors = ['pink', 'green', 'brown', 'blue', 'grey']\n",
    "explode = (0.1, 0, 0, 0, 0)\n",
    "\n",
    "plt.pie(sizes, labels=labels, colors=colors, autopct='%1.1f%%', shadow=True, startangle=140, explode=explode)\n",
    "plt.axis('equal') \n",
    "plt.title('Top 5 Agents with the most resolved issues')\n",
    "plt.show()"
   ]
  },
  {
   "cell_type": "markdown",
   "id": "6bfe33f9",
   "metadata": {},
   "source": [
    "- Based on this analysis I noticed that Agent ID: 48 Aurelio Tanori resolved a total of 2027 issues followed by Agent ID:39, Jesus Contreras with a total of 2026"
   ]
  },
  {
   "cell_type": "code",
   "execution_count": null,
   "id": "97a04f8a",
   "metadata": {},
   "outputs": [],
   "source": []
  },
  {
   "cell_type": "markdown",
   "id": "523061c9",
   "metadata": {},
   "source": [
    "#### What are the most common request categories?"
   ]
  },
  {
   "cell_type": "code",
   "execution_count": 107,
   "id": "8d9306db",
   "metadata": {},
   "outputs": [
    {
     "name": "stdout",
     "output_type": "stream",
     "text": [
      " * sqlite:///demo.db\n",
      "Done.\n"
     ]
    },
    {
     "data": {
      "text/html": [
       "<table>\n",
       "    <thead>\n",
       "        <tr>\n",
       "            <th>Request Category</th>\n",
       "            <th>Number of Tickets</th>\n",
       "        </tr>\n",
       "    </thead>\n",
       "    <tbody>\n",
       "        <tr>\n",
       "            <td>System</td>\n",
       "            <td>39002</td>\n",
       "        </tr>\n",
       "        <tr>\n",
       "            <td>Login Access</td>\n",
       "            <td>29193</td>\n",
       "        </tr>\n",
       "        <tr>\n",
       "            <td>Software</td>\n",
       "            <td>19570</td>\n",
       "        </tr>\n",
       "        <tr>\n",
       "            <td>Hardware</td>\n",
       "            <td>9733</td>\n",
       "        </tr>\n",
       "    </tbody>\n",
       "</table>"
      ],
      "text/plain": [
       "[('System', 39002),\n",
       " ('Login Access', 29193),\n",
       " ('Software', 19570),\n",
       " ('Hardware', 9733)]"
      ]
     },
     "execution_count": 107,
     "metadata": {},
     "output_type": "execute_result"
    }
   ],
   "source": [
    "%%sql\n",
    "\n",
    "SELECT \"Request Category\", COUNT(*) AS \"Number of Tickets\"\n",
    "FROM data\n",
    "GROUP BY \"Request Category\"\n",
    "ORDER BY \"Number of Tickets\" DESC;"
   ]
  },
  {
   "cell_type": "code",
   "execution_count": 59,
   "id": "2dc20a98",
   "metadata": {},
   "outputs": [
    {
     "data": {
      "image/png": "[encoded data removed]",
      "text/plain": [
       "<Figure size 1000x600 with 1 Axes>"
      ]
     },
     "metadata": {},
     "output_type": "display_data"
    }
   ],
   "source": [
    "query = \"\"\"\n",
    "SELECT \"Request Category\", COUNT(*) AS \"Number of Tickets\"\n",
    "FROM data\n",
    "GROUP BY \"Request Category\"\n",
    "ORDER BY \"Number of Tickets\" DESC\n",
    "LIMIT 5;\n",
    "\"\"\"\n",
    "top_categories = pd.read_sql_query(query, connection)\n",
    "\n",
    "plt.figure(figsize=(10, 6))\n",
    "plt.bar(top_categories['Request Category'], top_categories['Number of Tickets'])\n",
    "plt.xlabel('Request Category')\n",
    "plt.ylabel('Number of Tickets')\n",
    "plt.title('Top 5 Most Common Request Categories')\n",
    "plt.xticks(rotation=45, ha='right')\n",
    "plt.tight_layout()\n",
    "\n",
    "plt.show()"
   ]
  },
  {
   "cell_type": "markdown",
   "id": "3fe7a743",
   "metadata": {},
   "source": [
    "It is observed that The \"System\" category had the highest number of tickets, totaling 39,002. Following closely, \"Login Access\" garnered 29,193 tickets, while \"Software\" and \"Hardware\" accounted for 19,570 and 9,733 tickets respectively."
   ]
  },
  {
   "cell_type": "code",
   "execution_count": null,
   "id": "db4f0d72",
   "metadata": {},
   "outputs": [],
   "source": []
  },
  {
   "cell_type": "markdown",
   "id": "ec5a53c7",
   "metadata": {},
   "source": [
    "#### What is the average resolution time for each severity level?"
   ]
  },
  {
   "cell_type": "code",
   "execution_count": 61,
   "id": "b11d2125",
   "metadata": {},
   "outputs": [
    {
     "name": "stdout",
     "output_type": "stream",
     "text": [
      " * sqlite:///demo.db\n",
      "Done.\n"
     ]
    },
    {
     "data": {
      "text/html": [
       "<table>\n",
       "    <thead>\n",
       "        <tr>\n",
       "            <th>Severity</th>\n",
       "            <th>Average Resolution Time</th>\n",
       "        </tr>\n",
       "    </thead>\n",
       "    <tbody>\n",
       "        <tr>\n",
       "            <td>4 - Urgent</td>\n",
       "            <td>2.0014367816091956</td>\n",
       "        </tr>\n",
       "        <tr>\n",
       "            <td>3 - Mayor</td>\n",
       "            <td>3.9079818031430933</td>\n",
       "        </tr>\n",
       "        <tr>\n",
       "            <td>2 - Normal</td>\n",
       "            <td>4.663609907958852</td>\n",
       "        </tr>\n",
       "        <tr>\n",
       "            <td>1 - Minor</td>\n",
       "            <td>3.4353410097431354</td>\n",
       "        </tr>\n",
       "        <tr>\n",
       "            <td>0 - Unclasified</td>\n",
       "            <td>2.8764044943820224</td>\n",
       "        </tr>\n",
       "    </tbody>\n",
       "</table>"
      ],
      "text/plain": [
       "[('4 - Urgent', 2.0014367816091956),\n",
       " ('3 - Mayor', 3.9079818031430933),\n",
       " ('2 - Normal', 4.663609907958852),\n",
       " ('1 - Minor', 3.4353410097431354),\n",
       " ('0 - Unclasified', 2.8764044943820224)]"
      ]
     },
     "execution_count": 61,
     "metadata": {},
     "output_type": "execute_result"
    }
   ],
   "source": [
    "%%sql\n",
    "\n",
    "SELECT \"Severity\", AVG(\"Resolution Time (Days)\") AS \"Average Resolution Time\"\n",
    "FROM data\n",
    "GROUP BY \"Severity\"\n",
    "ORDER BY \"Severity\" DESC;"
   ]
  },
  {
   "cell_type": "code",
   "execution_count": 63,
   "id": "b4029f8f",
   "metadata": {},
   "outputs": [
    {
     "data": {
      "image/png": "[encoded data removed]",
      "text/plain": [
       "<Figure size 1000x600 with 1 Axes>"
      ]
     },
     "metadata": {},
     "output_type": "display_data"
    }
   ],
   "source": [
    "query = \"\"\"\n",
    "SELECT \"Severity\", AVG(\"Resolution Time (Days)\") AS \"Average Resolution Time\"\n",
    "FROM data\n",
    "GROUP BY \"Severity\"\n",
    "ORDER BY \"Severity\" DESC;\n",
    "\"\"\"\n",
    "\n",
    "average_resolution_time = pd.read_sql_query(query, connection)\n",
    "\n",
    "plt.figure(figsize=(10, 6))\n",
    "plt.bar(average_resolution_time['Severity'], average_resolution_time['Average Resolution Time'])\n",
    "plt.xlabel('Severity')\n",
    "plt.ylabel('Average Resolution Time')\n",
    "plt.title('Average Resolution Time by Severity')\n",
    "plt.xticks(rotation=45, ha='right')\n",
    "plt.tight_layout()\n",
    "\n",
    "plt.show()"
   ]
  },
  {
   "cell_type": "markdown",
   "id": "c2b383b1",
   "metadata": {},
   "source": [
    "This analysis reveals that - The severity level \"4 - Urgent\" has the shortest average resolution time at approximately 2.00 days.\n",
    "while \"3 - Major\" issues take around 3.91 days to resolve on average. \n",
    "For \"2 - Normal\" severity issues, the average resolution time extends to about 4.66 days. \"1 - Minor\" severity issues are resolved in an average of 3.44 days.....\n",
    "\n",
    "This pattern suggests that the Agents prioritizes and expedites the resolution of 'urgent' issues, resulting in a shorter turnaround time. On the other hand, issues with lower severity levels (higher numerical values) are given a relatively longer time for resolution"
   ]
  },
  {
   "cell_type": "code",
   "execution_count": null,
   "id": "5e218fc9",
   "metadata": {},
   "outputs": [],
   "source": []
  },
  {
   "cell_type": "markdown",
   "id": "debeee52",
   "metadata": {},
   "source": [
    "#### Satisfaction Rate Group "
   ]
  },
  {
   "cell_type": "code",
   "execution_count": 125,
   "id": "2f8ca2f5",
   "metadata": {},
   "outputs": [
    {
     "name": "stdout",
     "output_type": "stream",
     "text": [
      " * sqlite:///demo.db\n",
      "Done.\n"
     ]
    },
    {
     "data": {
      "text/html": [
       "<table>\n",
       "    <thead>\n",
       "        <tr>\n",
       "            <th>Total Satisfaction Rate</th>\n",
       "            <th>Satisfaction_rate_group</th>\n",
       "        </tr>\n",
       "    </thead>\n",
       "    <tbody>\n",
       "        <tr>\n",
       "            <td>50770</td>\n",
       "            <td>Very Satisfactory</td>\n",
       "        </tr>\n",
       "        <tr>\n",
       "            <td>9907</td>\n",
       "            <td>Unsatisfactory</td>\n",
       "        </tr>\n",
       "        <tr>\n",
       "            <td>27562</td>\n",
       "            <td>Satisfactory</td>\n",
       "        </tr>\n",
       "        <tr>\n",
       "            <td>1977</td>\n",
       "            <td>Neutral</td>\n",
       "        </tr>\n",
       "        <tr>\n",
       "            <td>7282</td>\n",
       "            <td>Fair</td>\n",
       "        </tr>\n",
       "    </tbody>\n",
       "</table>"
      ],
      "text/plain": [
       "[(50770, 'Very Satisfactory'),\n",
       " (9907, 'Unsatisfactory'),\n",
       " (27562, 'Satisfactory'),\n",
       " (1977, 'Neutral'),\n",
       " (7282, 'Fair')]"
      ]
     },
     "execution_count": 125,
     "metadata": {},
     "output_type": "execute_result"
    }
   ],
   "source": [
    "%%sql\n",
    "\n",
    "SELECT\n",
    "    \n",
    "    COUNT(d.\"Satisfaction Rate\") AS \"Total Satisfaction Rate\", \n",
    "    CASE\n",
    "        WHEN d.\"Satisfaction Rate\" == 5 THEN 'Very Satisfactory'\n",
    "        WHEN d.\"Satisfaction Rate\" == 4 THEN 'Satisfactory'\n",
    "        WHEN d.\"Satisfaction Rate\" == 3 THEN 'Fair'\n",
    "        WHEN d.\"Satisfaction Rate\" == 2 THEN 'Neutral'\n",
    "        ELSE 'Unsatisfactory' \n",
    "    END AS Satisfaction_rate_group\n",
    "FROM agents a\n",
    "JOIN data d ON a.\"Agent ID\" = d.\"Agent ID\"\n",
    "GROUP BY Satisfaction_rate_group\n",
    "ORDER BY Satisfaction_rate_group DESC;"
   ]
  },
  {
   "cell_type": "code",
   "execution_count": 156,
   "id": "f18533ac",
   "metadata": {},
   "outputs": [
    {
     "data": {
      "image/png": "[encoded data removed]",
      "text/plain": [
       "<Figure size 1000x600 with 1 Axes>"
      ]
     },
     "metadata": {},
     "output_type": "display_data"
    }
   ],
   "source": [
    "query = \"\"\"\n",
    "SELECT\n",
    "    \n",
    "    COUNT(d.\"Satisfaction Rate\") AS \"Total Satisfaction Rate\", \n",
    "    CASE\n",
    "        WHEN d.\"Satisfaction Rate\" == 5 THEN 'Very Satisfactory'\n",
    "        WHEN d.\"Satisfaction Rate\" == 4 THEN 'Satisfactory'\n",
    "        WHEN d.\"Satisfaction Rate\" == 3 THEN 'Fair'\n",
    "        WHEN d.\"Satisfaction Rate\" == 2 THEN 'Neutral'\n",
    "        ELSE 'Unsatisfactory' \n",
    "    END AS Satisfaction_rate_group\n",
    "FROM agents a\n",
    "JOIN data d ON a.\"Agent ID\" = d.\"Agent ID\"\n",
    "GROUP BY Satisfaction_rate_group\n",
    "ORDER BY Satisfaction_rate_group DESC;\n",
    "\"\"\"\n",
    "\n",
    "satisfaction_rate_grouped = pd.read_sql_query(query, connection)\n",
    "\n",
    "plt.figure(figsize=(10, 6))\n",
    "plt.bar(satisfaction_rate_grouped['Satisfaction_rate_group'],satisfaction_rate_grouped['Total Satisfaction Rate'])\n",
    "plt.xlabel('Satisfaction_rate_group')\n",
    "plt.ylabel('Total Satisfaction Rate')\n",
    "plt.title('Grouped Satisfaction Rate')\n",
    "plt.xticks(rotation=45, ha='right')\n",
    "plt.tight_layout()\n",
    "\n",
    "plt.show()"
   ]
  },
  {
   "cell_type": "markdown",
   "id": "307ea8b9",
   "metadata": {},
   "source": [
    "Based on the dataset, it appears that the majority of our customers are satisfied. The \"Very Satisfactory\" and \"Satisfactory\" categories together account for a significant portion of the total satisfaction rate. This suggests that a substantial number of users have rated their experience positively. \n",
    "\n",
    "However, it's also important to consider the \"Unsatisfactory,\" \"Neutral,\" and \"Fair\" categories, as they represent cases where improvements might be needed to ensure a consistently high level of customer satisfaction."
   ]
  },
  {
   "cell_type": "code",
   "execution_count": null,
   "id": "90a33578",
   "metadata": {},
   "outputs": [],
   "source": []
  },
  {
   "cell_type": "markdown",
   "id": "48a7b6d7",
   "metadata": {},
   "source": [
    "#### Top 5 Agents with the highest average satisfaction rate?"
   ]
  },
  {
   "cell_type": "code",
   "execution_count": 115,
   "id": "b65ae070",
   "metadata": {},
   "outputs": [
    {
     "name": "stdout",
     "output_type": "stream",
     "text": [
      " * sqlite:///demo.db\n",
      "Done.\n"
     ]
    },
    {
     "data": {
      "text/html": [
       "<table>\n",
       "    <thead>\n",
       "        <tr>\n",
       "            <th>Agent ID</th>\n",
       "            <th>Full Names</th>\n",
       "            <th>Average Satisfaction Rate</th>\n",
       "        </tr>\n",
       "    </thead>\n",
       "    <tbody>\n",
       "        <tr>\n",
       "            <td>34</td>\n",
       "            <td>Diana Rojo</td>\n",
       "            <td>4.596782563570317</td>\n",
       "        </tr>\n",
       "        <tr>\n",
       "            <td>12</td>\n",
       "            <td>Javier Davila</td>\n",
       "            <td>4.489720611491829</td>\n",
       "        </tr>\n",
       "        <tr>\n",
       "            <td>2</td>\n",
       "            <td>Jesus Grajeda</td>\n",
       "            <td>4.473577235772358</td>\n",
       "        </tr>\n",
       "        <tr>\n",
       "            <td>15</td>\n",
       "            <td>Galindo Guadalupe</td>\n",
       "            <td>4.471622300351582</td>\n",
       "        </tr>\n",
       "        <tr>\n",
       "            <td>29</td>\n",
       "            <td>Segura Garcia</td>\n",
       "            <td>4.461418953909892</td>\n",
       "        </tr>\n",
       "    </tbody>\n",
       "</table>"
      ],
      "text/plain": [
       "[(34, 'Diana Rojo', 4.596782563570317),\n",
       " (12, 'Javier Davila', 4.489720611491829),\n",
       " (2, 'Jesus Grajeda', 4.473577235772358),\n",
       " (15, 'Galindo Guadalupe', 4.471622300351582),\n",
       " (29, 'Segura Garcia', 4.461418953909892)]"
      ]
     },
     "execution_count": 115,
     "metadata": {},
     "output_type": "execute_result"
    }
   ],
   "source": [
    "%%sql\n",
    "\n",
    "SELECT a.\"Agent ID\", a.\"Name\" || ' ' || a.\"Last Name\" AS \"Full Names\", AVG(d.\"Satisfaction Rate\") AS \"Average Satisfaction Rate\"\n",
    "FROM agents a\n",
    "JOIN data d ON a.\"Agent ID\" = d.\"Agent ID\"\n",
    "GROUP BY a.\"Agent ID\", a.\"Last Name\"\n",
    "ORDER BY AVG(d.\"Satisfaction Rate\") DESC\n",
    "LIMIT 5;"
   ]
  },
  {
   "cell_type": "code",
   "execution_count": 117,
   "id": "0809c3ba",
   "metadata": {},
   "outputs": [
    {
     "data": {
      "image/png": "[encoded data removed]",
      "text/plain": [
       "<Figure size 640x480 with 1 Axes>"
      ]
     },
     "metadata": {},
     "output_type": "display_data"
    }
   ],
   "source": [
    "query = \"\"\"\n",
    "SELECT a.\"Agent ID\", a.\"Name\" || ' ' || a.\"Last Name\" AS \"Full Names\", AVG(d.\"Satisfaction Rate\") AS \"Average Satisfaction Rate\"\n",
    "FROM agents a\n",
    "JOIN data d ON a.\"Agent ID\" = d.\"Agent ID\"\n",
    "GROUP BY a.\"Agent ID\", a.\"Last Name\"\n",
    "ORDER BY AVG(d.\"Satisfaction Rate\") DESC\n",
    "LIMIT 5;\n",
    "\"\"\"\n",
    "top_agents_satisfaction = pd.read_sql_query(query, connection)\n",
    "\n",
    "labels = top_agents_satisfaction[\"Full Names\"]\n",
    "sizes = top_agents_satisfaction[\"Average Satisfaction Rate\"]\n",
    "colors = ['blue', 'green', 'orange', 'red', 'purple']\n",
    "explode = (0.1, 0, 0, 0, 0)\n",
    "\n",
    "plt.pie(sizes, labels=labels, colors=colors, autopct='%1.1f%%', shadow=True, startangle=140, explode=explode)\n",
    "plt.axis('equal') \n",
    "plt.title('Top 5 Agents with Highest Average Satisfaction Rate')\n",
    "plt.show()"
   ]
  },
  {
   "cell_type": "markdown",
   "id": "8ffeea1d",
   "metadata": {},
   "source": [
    "##### These agents have consistently received high average satisfaction ratings from customers, indicating that they have provided quality service and have been successful in meeting customer expectations."
   ]
  },
  {
   "cell_type": "code",
   "execution_count": null,
   "id": "2e6241d3",
   "metadata": {},
   "outputs": [],
   "source": []
  },
  {
   "cell_type": "code",
   "execution_count": null,
   "id": "1c971ff8",
   "metadata": {},
   "outputs": [],
   "source": []
  },
  {
   "cell_type": "markdown",
   "id": "af25d745",
   "metadata": {},
   "source": [
    "#### In which months do the help desk tickets peak the most?"
   ]
  },
  {
   "cell_type": "code",
   "execution_count": 102,
   "id": "39fa6db5",
   "metadata": {},
   "outputs": [
    {
     "name": "stdout",
     "output_type": "stream",
     "text": [
      " * sqlite:///demo.db\n",
      "Done.\n"
     ]
    },
    {
     "data": {
      "text/html": [
       "<table>\n",
       "    <thead>\n",
       "        <tr>\n",
       "            <th>Month_Number</th>\n",
       "            <th>Month_Name</th>\n",
       "            <th>Peak_Period</th>\n",
       "        </tr>\n",
       "    </thead>\n",
       "    <tbody>\n",
       "        <tr>\n",
       "            <td>10</td>\n",
       "            <td>October</td>\n",
       "            <td>8495</td>\n",
       "        </tr>\n",
       "        <tr>\n",
       "            <td>08</td>\n",
       "            <td>August</td>\n",
       "            <td>8489</td>\n",
       "        </tr>\n",
       "        <tr>\n",
       "            <td>12</td>\n",
       "            <td>December</td>\n",
       "            <td>8401</td>\n",
       "        </tr>\n",
       "        <tr>\n",
       "            <td>11</td>\n",
       "            <td>November</td>\n",
       "            <td>8254</td>\n",
       "        </tr>\n",
       "        <tr>\n",
       "            <td>03</td>\n",
       "            <td>March</td>\n",
       "            <td>8228</td>\n",
       "        </tr>\n",
       "        <tr>\n",
       "            <td>09</td>\n",
       "            <td>September</td>\n",
       "            <td>8219</td>\n",
       "        </tr>\n",
       "        <tr>\n",
       "            <td>06</td>\n",
       "            <td>June</td>\n",
       "            <td>8141</td>\n",
       "        </tr>\n",
       "        <tr>\n",
       "            <td>05</td>\n",
       "            <td>May</td>\n",
       "            <td>8121</td>\n",
       "        </tr>\n",
       "        <tr>\n",
       "            <td>07</td>\n",
       "            <td>July</td>\n",
       "            <td>8070</td>\n",
       "        </tr>\n",
       "        <tr>\n",
       "            <td>04</td>\n",
       "            <td>April</td>\n",
       "            <td>7937</td>\n",
       "        </tr>\n",
       "        <tr>\n",
       "            <td>02</td>\n",
       "            <td>February</td>\n",
       "            <td>7901</td>\n",
       "        </tr>\n",
       "        <tr>\n",
       "            <td>01</td>\n",
       "            <td>January</td>\n",
       "            <td>7242</td>\n",
       "        </tr>\n",
       "    </tbody>\n",
       "</table>"
      ],
      "text/plain": [
       "[('10', 'October', 8495),\n",
       " ('08', 'August', 8489),\n",
       " ('12', 'December', 8401),\n",
       " ('11', 'November', 8254),\n",
       " ('03', 'March', 8228),\n",
       " ('09', 'September', 8219),\n",
       " ('06', 'June', 8141),\n",
       " ('05', 'May', 8121),\n",
       " ('07', 'July', 8070),\n",
       " ('04', 'April', 7937),\n",
       " ('02', 'February', 7901),\n",
       " ('01', 'January', 7242)]"
      ]
     },
     "execution_count": 102,
     "metadata": {},
     "output_type": "execute_result"
    }
   ],
   "source": [
    "%%sql\n",
    "\n",
    "SELECT\n",
    "    strftime('%m', Date_ticket_created) AS Month_Number,\n",
    "    CASE\n",
    "        WHEN strftime('%m', Date_ticket_created) == '01' THEN 'January'\n",
    "        WHEN strftime('%m', Date_ticket_created) == '02' THEN 'February'\n",
    "        WHEN strftime('%m', Date_ticket_created) == '03' THEN 'March'\n",
    "        WHEN strftime('%m', Date_ticket_created) == '04' THEN 'April'\n",
    "        WHEN strftime('%m', Date_ticket_created) == '05' THEN 'May'\n",
    "        WHEN strftime('%m', Date_ticket_created) == '06' THEN 'June'\n",
    "        WHEN strftime('%m', Date_ticket_created) == '07' THEN 'July'\n",
    "        WHEN strftime('%m', Date_ticket_created) == '08' THEN 'August'\n",
    "        WHEN strftime('%m', Date_ticket_created) == '09' THEN 'September'\n",
    "        WHEN strftime('%m', Date_ticket_created) == '10' THEN 'October'\n",
    "        WHEN strftime('%m', Date_ticket_created) == '11' THEN 'November'\n",
    "        ELSE 'December'\n",
    "    END AS Month_Name,\n",
    "    COUNT(*) AS Peak_Period\n",
    "FROM data\n",
    "GROUP BY Month_Name\n",
    "ORDER BY Peak_Period DESC;"
   ]
  },
  {
   "cell_type": "code",
   "execution_count": 71,
   "id": "7445b6d2",
   "metadata": {},
   "outputs": [
    {
     "data": {
      "image/png": "[encoded data removed]",
      "text/plain": [
       "<Figure size 1000x600 with 1 Axes>"
      ]
     },
     "metadata": {},
     "output_type": "display_data"
    }
   ],
   "source": [
    "query = \"\"\"\n",
    "SELECT\n",
    "    strftime('%m', Date_ticket_created) AS Month_Number,\n",
    "    CASE\n",
    "        WHEN strftime('%m', Date_ticket_created) == '01' THEN 'January'\n",
    "        WHEN strftime('%m', Date_ticket_created) == '02' THEN 'February'\n",
    "        WHEN strftime('%m', Date_ticket_created) == '03' THEN 'March'\n",
    "        WHEN strftime('%m', Date_ticket_created) == '04' THEN 'April'\n",
    "        WHEN strftime('%m', Date_ticket_created) == '05' THEN 'May'\n",
    "        WHEN strftime('%m', Date_ticket_created) == '06' THEN 'June'\n",
    "        WHEN strftime('%m', Date_ticket_created) == '07' THEN 'July'\n",
    "        WHEN strftime('%m', Date_ticket_created) == '08' THEN 'August'\n",
    "        WHEN strftime('%m', Date_ticket_created) == '09' THEN 'September'\n",
    "        WHEN strftime('%m', Date_ticket_created) == '10' THEN 'October'\n",
    "        WHEN strftime('%m', Date_ticket_created) == '11' THEN 'November'\n",
    "        ELSE 'December'\n",
    "    END AS Month_Name,\n",
    "    COUNT(*) AS Peak_Period\n",
    "FROM data\n",
    "GROUP BY Month_Number, Month_Name\n",
    "ORDER BY Peak_Period DESC;\n",
    "\"\"\"\n",
    "\n",
    "help_desk_tickets_peak_period = pd.read_sql_query(query, connection)\n",
    "\n",
    "plt.figure(figsize=(10, 6))\n",
    "plt.bar(help_desk_tickets_peak_period['Month_Name'], help_desk_tickets_peak_period['Peak_Period'])\n",
    "plt.xlabel('Month')\n",
    "plt.ylabel('Peak Period')\n",
    "plt.title('Peak Periods of Help Desk Tickets (Busiest Months)')\n",
    "plt.xticks(rotation=45, ha='right')\n",
    "plt.tight_layout()\n",
    "\n",
    "plt.show()"
   ]
  },
  {
   "cell_type": "markdown",
   "id": "21bd35f4",
   "metadata": {},
   "source": [
    "The months in which the help desk tickets peak the most are as follows based on the dataset:\n",
    "\n",
    "- October with a peak period of 8495 tickets.\n",
    "- August with a peak period of 8489 tickets.\n",
    "- December with a peak period of 8401 tickets.\n",
    "- November with a peak period of 8254 tickets.\n",
    "- March with a peak period of 8228 tickets.\n",
    "\n",
    "These months show the highest number of help desk tickets, indicating that these periods experience the highest demand for IT support and assistance. \n",
    "\n",
    "It could be valuable for the IT team to be prepared for increased ticket volumes during these months to ensure timely and efficient customer service."
   ]
  },
  {
   "cell_type": "code",
   "execution_count": null,
   "id": "03ed949b",
   "metadata": {},
   "outputs": [],
   "source": []
  },
  {
   "cell_type": "markdown",
   "id": "11712afe",
   "metadata": {},
   "source": [
    "#### What are the top most common issue types?"
   ]
  },
  {
   "cell_type": "code",
   "execution_count": 74,
   "id": "d53d10e4",
   "metadata": {},
   "outputs": [
    {
     "name": "stdout",
     "output_type": "stream",
     "text": [
      " * sqlite:///demo.db\n",
      "Done.\n"
     ]
    },
    {
     "data": {
      "text/html": [
       "<table>\n",
       "    <thead>\n",
       "        <tr>\n",
       "            <th>Issue Type</th>\n",
       "            <th>Number of Tickets</th>\n",
       "        </tr>\n",
       "    </thead>\n",
       "    <tbody>\n",
       "        <tr>\n",
       "            <td>IT Request</td>\n",
       "            <td>73220</td>\n",
       "        </tr>\n",
       "        <tr>\n",
       "            <td>IT Error</td>\n",
       "            <td>24278</td>\n",
       "        </tr>\n",
       "    </tbody>\n",
       "</table>"
      ],
      "text/plain": [
       "[('IT Request', 73220), ('IT Error', 24278)]"
      ]
     },
     "execution_count": 74,
     "metadata": {},
     "output_type": "execute_result"
    }
   ],
   "source": [
    "%%sql\n",
    "\n",
    "SELECT \"Issue Type\", COUNT(*) AS \"Number of Tickets\"\n",
    "FROM data\n",
    "GROUP BY \"Issue Type\"\n",
    "ORDER BY \"Number of Tickets\" DESC\n",
    "LIMIT 3;"
   ]
  },
  {
   "cell_type": "code",
   "execution_count": 76,
   "id": "e9e96e66",
   "metadata": {},
   "outputs": [
    {
     "data": {
      "image/png": "[encoded data removed]",
      "text/plain": [
       "<Figure size 1000x600 with 1 Axes>"
      ]
     },
     "metadata": {},
     "output_type": "display_data"
    }
   ],
   "source": [
    "query = \"\"\"\n",
    "SELECT \"Issue Type\", COUNT(*) AS \"Number of Tickets\"\n",
    "FROM data\n",
    "GROUP BY \"Issue Type\"\n",
    "ORDER BY \"Number of Tickets\" DESC\n",
    "LIMIT 3;\n",
    "\"\"\"\n",
    "\n",
    "most_common_issue_types = pd.read_sql_query(query, connection)\n",
    "\n",
    "plt.figure(figsize=(10, 6))\n",
    "plt.bar(most_common_issue_types['Issue Type'], most_common_issue_types['Number of Tickets'])\n",
    "plt.xlabel('Issue Type')\n",
    "plt.ylabel('Number of Tickets')\n",
    "plt.title('Top common issue types')\n",
    "plt.xticks(rotation=45, ha='right')\n",
    "plt.tight_layout()\n",
    "\n",
    "plt.show()"
   ]
  },
  {
   "cell_type": "markdown",
   "id": "3594365a",
   "metadata": {},
   "source": [
    "##### The most common issue type is the \"IT Request\" with about 73220 number of Tickets raised"
   ]
  },
  {
   "cell_type": "code",
   "execution_count": null,
   "id": "d5371148",
   "metadata": {},
   "outputs": [],
   "source": []
  },
  {
   "cell_type": "code",
   "execution_count": null,
   "id": "1979f37a",
   "metadata": {},
   "outputs": [],
   "source": []
  },
  {
   "cell_type": "markdown",
   "id": "bedbed72",
   "metadata": {},
   "source": [
    "#### Correlation between Customer Satisfaction and the Agent's Resolutions Days & Resolved Issues"
   ]
  },
  {
   "cell_type": "code",
   "execution_count": 141,
   "id": "92d522b1",
   "metadata": {},
   "outputs": [
    {
     "name": "stdout",
     "output_type": "stream",
     "text": [
      " * sqlite:///demo.db\n",
      "Done.\n"
     ]
    },
    {
     "data": {
      "text/html": [
       "<table>\n",
       "    <thead>\n",
       "        <tr>\n",
       "            <th>Agent ID</th>\n",
       "            <th>Full Names</th>\n",
       "            <th>Resolutions Days</th>\n",
       "            <th>Average Satisfaction Rate</th>\n",
       "            <th>Resolved Issues Count</th>\n",
       "        </tr>\n",
       "    </thead>\n",
       "    <tbody>\n",
       "        <tr>\n",
       "            <td>48</td>\n",
       "            <td>Aurelio Tanori</td>\n",
       "            <td>4.514553527380365</td>\n",
       "            <td>4.407992106561421</td>\n",
       "            <td>2027</td>\n",
       "        </tr>\n",
       "        <tr>\n",
       "            <td>39</td>\n",
       "            <td>Jesus Contreras</td>\n",
       "            <td>5.554787759131293</td>\n",
       "            <td>4.34452122408687</td>\n",
       "            <td>2026</td>\n",
       "        </tr>\n",
       "        <tr>\n",
       "            <td>3</td>\n",
       "            <td>Elena Velez</td>\n",
       "            <td>5.381989114299851</td>\n",
       "            <td>3.6150420583869374</td>\n",
       "            <td>2021</td>\n",
       "        </tr>\n",
       "        <tr>\n",
       "            <td>35</td>\n",
       "            <td> Melinda</td>\n",
       "            <td>4.3692077727952165</td>\n",
       "            <td>4.3991031390134525</td>\n",
       "            <td>2007</td>\n",
       "        </tr>\n",
       "        <tr>\n",
       "            <td>24</td>\n",
       "            <td>Barbara Grijalva</td>\n",
       "            <td>4.227159261108337</td>\n",
       "            <td>4.441337993010484</td>\n",
       "            <td>2003</td>\n",
       "        </tr>\n",
       "        <tr>\n",
       "            <td>5</td>\n",
       "            <td>Willyberto Gonzales</td>\n",
       "            <td>4.259</td>\n",
       "            <td>4.376</td>\n",
       "            <td>2000</td>\n",
       "        </tr>\n",
       "        <tr>\n",
       "            <td>15</td>\n",
       "            <td>Galindo Guadalupe</td>\n",
       "            <td>3.6559517830236063</td>\n",
       "            <td>4.471622300351582</td>\n",
       "            <td>1991</td>\n",
       "        </tr>\n",
       "        <tr>\n",
       "            <td>4</td>\n",
       "            <td>Barraza Alberto</td>\n",
       "            <td>5.243963782696177</td>\n",
       "            <td>4.187625754527163</td>\n",
       "            <td>1988</td>\n",
       "        </tr>\n",
       "    </tbody>\n",
       "</table>"
      ],
      "text/plain": [
       "[(48, 'Aurelio Tanori', 4.514553527380365, 4.407992106561421, 2027),\n",
       " (39, 'Jesus Contreras', 5.554787759131293, 4.34452122408687, 2026),\n",
       " (3, 'Elena Velez', 5.381989114299851, 3.6150420583869374, 2021),\n",
       " (35, ' Melinda', 4.3692077727952165, 4.3991031390134525, 2007),\n",
       " (24, 'Barbara Grijalva', 4.227159261108337, 4.441337993010484, 2003),\n",
       " (5, 'Willyberto Gonzales', 4.259, 4.376, 2000),\n",
       " (15, 'Galindo Guadalupe', 3.6559517830236063, 4.471622300351582, 1991),\n",
       " (4, 'Barraza Alberto', 5.243963782696177, 4.187625754527163, 1988)]"
      ]
     },
     "execution_count": 141,
     "metadata": {},
     "output_type": "execute_result"
    }
   ],
   "source": [
    "%%sql\n",
    "\n",
    "SELECT a.\"Agent ID\", a.\"Name\" || ' ' || a.\"Last Name\" AS \"Full Names\",\n",
    "       AVG(d.\"Resolution Time (Days)\") AS \"Resolutions Days\",\n",
    "       AVG(d.\"Satisfaction Rate\") AS \"Average Satisfaction Rate\",\n",
    "       COUNT(*) AS \"Resolved Issues Count\"\n",
    "FROM agents a\n",
    "JOIN data d ON a.\"Agent ID\" = d.\"Agent ID\"\n",
    "WHERE d.\"Resolution Time (Days)\" >= 0\n",
    "GROUP BY a.\"Agent ID\", \"Full Names\"\n",
    "ORDER BY \"Resolved Issues Count\" DESC\n",
    "LIMIT 8;\n"
   ]
  },
  {
   "cell_type": "code",
   "execution_count": 147,
   "id": "7cec7ba2",
   "metadata": {},
   "outputs": [
    {
     "data": {
      "image/png": "[encoded data removed]",
      "text/plain": [
       "<Figure size 1800x600 with 3 Axes>"
      ]
     },
     "metadata": {},
     "output_type": "display_data"
    }
   ],
   "source": [
    "query = \"\"\"\n",
    "SELECT a.\"Agent ID\", a.\"Name\" || ' ' || a.\"Last Name\" AS \"Full Names\",\n",
    "       AVG(d.\"Resolution Time (Days)\") AS \"Resolutions Days\",\n",
    "       AVG(d.\"Satisfaction Rate\") AS \"Average Satisfaction Rate\",\n",
    "       COUNT(*) AS \"Resolved Issues Count\"\n",
    "FROM agents a\n",
    "JOIN data d ON a.\"Agent ID\" = d.\"Agent ID\"\n",
    "WHERE d.\"Resolution Time (Days)\" >= 0\n",
    "GROUP BY a.\"Agent ID\", \"Full Names\"\n",
    "ORDER BY \"Resolved Issues Count\" DESC\n",
    "LIMIT 8;\n",
    "\"\"\"\n",
    "\n",
    "result_df = pd.read_sql_query(query, connection)\n",
    "\n",
    "fig, axs = plt.subplots(1, 3, figsize=(18, 6))\n",
    "\n",
    "#Resolved Issues Count\n",
    "axs[0].bar(result_df['Full Names'], result_df['Resolved Issues Count'], color='blue')\n",
    "axs[0].set_title('Resolved Issues Count')\n",
    "axs[0].set_xlabel('Agents')\n",
    "axs[0].set_ylabel('Resolved Issues Count')\n",
    "axs[0].tick_params(axis='x', rotation=45)\n",
    "axs[0].set_xticklabels(result_df['Full Names'], ha='right')\n",
    "\n",
    "# Average Resolution Time\n",
    "axs[1].bar(result_df['Full Names'], result_df['Resolutions Days'], color='red')\n",
    "axs[1].set_title('Average Resolution Days')\n",
    "axs[1].set_xlabel('Agents')\n",
    "axs[1].set_ylabel('Average Resolution Time')\n",
    "axs[1].tick_params(axis='x', rotation=45)\n",
    "axs[1].set_xticklabels(result_df['Full Names'], ha='right')\n",
    "\n",
    "# Average Satisfaction Rate\n",
    "axs[2].bar(result_df['Full Names'], result_df['Average Satisfaction Rate'], color='green')\n",
    "axs[2].set_title('Average Satisfaction Rate')\n",
    "axs[2].set_xlabel('Agents')\n",
    "axs[2].set_ylabel('Average Satisfaction Rate')\n",
    "axs[2].tick_params(axis='x', rotation=45)\n",
    "axs[2].set_xticklabels(result_df['Full Names'], ha='right')\n",
    "\n",
    "plt.tight_layout()\n",
    "plt.show()"
   ]
  },
  {
   "cell_type": "markdown",
   "id": "302ca493",
   "metadata": {},
   "source": [
    "- 5 top agents with the highest resolved issues counts are Aurelio Tanori, Jesus Contreras, and Elena Velez, with 2027, 2026, and 2021 resolved issues, respectively. These agents have shown exceptional dedication to addressing customer concerns.\n",
    "\n",
    "- While Aurelio Tanori has the highest resolved issues count, his average resolution time is 4.51 days, which is relatively lower compared to some other agents.\n",
    "\n",
    "- Jesus Contreras, who has the second-highest resolved issues count, has an average resolution time of 5.55 days. This suggests that while he resolves a high number of issues, it takes slightly longer to resolve them.\n",
    "\n",
    "- Elena Velez has a similar trend, with a resolved issues count of 2021 and an average resolution time of 5.38 days. This might indicate that these agents prioritize thorough resolution, potentially contributing to their slightly longer resolution times.\n",
    "\n",
    "- Galindo Guadalupe stands out with an average satisfaction rate of 4.47 and lower resolution days, suggesting that customers are highly satisfied with his service.\n",
    "\n",
    "- This indicates a positive correlation between customer satisfaction and the agent's performance."
   ]
  },
  {
   "cell_type": "code",
   "execution_count": null,
   "id": "8d628dcd",
   "metadata": {},
   "outputs": [],
   "source": []
  },
  {
   "cell_type": "markdown",
   "id": "95f0e6f6",
   "metadata": {},
   "source": [
    "#### Agents' Satisfaction Rate Trends Over the Years?"
   ]
  },
  {
   "cell_type": "code",
   "execution_count": 77,
   "id": "1eaefe96",
   "metadata": {},
   "outputs": [
    {
     "name": "stdout",
     "output_type": "stream",
     "text": [
      " * sqlite:///demo.db\n",
      "Done.\n"
     ]
    },
    {
     "data": {
      "text/html": [
       "<table>\n",
       "    <thead>\n",
       "        <tr>\n",
       "            <th>Year</th>\n",
       "            <th>Average_Satisfaction_Rate</th>\n",
       "        </tr>\n",
       "    </thead>\n",
       "    <tbody>\n",
       "        <tr>\n",
       "            <td>2016</td>\n",
       "            <td>3.979695042525477</td>\n",
       "        </tr>\n",
       "        <tr>\n",
       "            <td>2017</td>\n",
       "            <td>4.068119342943346</td>\n",
       "        </tr>\n",
       "        <tr>\n",
       "            <td>2018</td>\n",
       "            <td>4.091853962224333</td>\n",
       "        </tr>\n",
       "        <tr>\n",
       "            <td>2019</td>\n",
       "            <td>4.1223825034899955</td>\n",
       "        </tr>\n",
       "        <tr>\n",
       "            <td>2020</td>\n",
       "            <td>4.161269251925193</td>\n",
       "        </tr>\n",
       "    </tbody>\n",
       "</table>"
      ],
      "text/plain": [
       "[('2016', 3.979695042525477),\n",
       " ('2017', 4.068119342943346),\n",
       " ('2018', 4.091853962224333),\n",
       " ('2019', 4.1223825034899955),\n",
       " ('2020', 4.161269251925193)]"
      ]
     },
     "execution_count": 77,
     "metadata": {},
     "output_type": "execute_result"
    }
   ],
   "source": [
    "%%sql\n",
    "\n",
    "SELECT strftime('%Y', Date_ticket_created) AS Year,\n",
    "       AVG(\"Satisfaction Rate\") AS Average_Satisfaction_Rate\n",
    "FROM data\n",
    "GROUP BY Year\n",
    "ORDER BY Year;"
   ]
  },
  {
   "cell_type": "code",
   "execution_count": 146,
   "id": "8a43876c",
   "metadata": {},
   "outputs": [
    {
     "data": {
      "image/png": "[encoded data removed]",
      "text/plain": [
       "<Figure size 1000x600 with 1 Axes>"
      ]
     },
     "metadata": {},
     "output_type": "display_data"
    }
   ],
   "source": [
    "\n",
    "query = \"\"\"\n",
    "SELECT strftime('%Y', Date_ticket_created) AS Year,\n",
    "       AVG(\"Satisfaction Rate\") AS Average_Satisfaction_Rate\n",
    "FROM data\n",
    "GROUP BY Year\n",
    "ORDER BY Year;\n",
    "\"\"\"\n",
    "\n",
    "satisfaction_rate_of_agents = pd.read_sql_query(query, connection)\n",
    "\n",
    "plt.figure(figsize=(10, 6))\n",
    "plt.plot(satisfaction_rate_of_agents['Year'], satisfaction_rate_of_agents['Average_Satisfaction_Rate'], marker='o')\n",
    "plt.xlabel('Year')\n",
    "plt.ylabel('Average_Satisfaction_Rate')\n",
    "plt.title('The satisfaction rate of agents over the years')\n",
    "plt.xticks(rotation=45)\n",
    "plt.grid(True)\n",
    "plt.tight_layout()\n",
    "\n",
    "plt.show()"
   ]
  },
  {
   "cell_type": "markdown",
   "id": "0dce17f8",
   "metadata": {},
   "source": [
    "- In the past five years (2016-2020),it is evident that agents' average satisfaction rates have shown a consistent upward trend over time.\n",
    "\n",
    "- In 2016, the average satisfaction rate was 3.98, which indicates a moderate level of satisfaction among customers.\n",
    "\n",
    "- By the year 2020, the average satisfaction rate reached its peak at 4.16. This indicates that, on average, customers have become more satisfied with the help desk services provided by agents."
   ]
  },
  {
   "cell_type": "code",
   "execution_count": null,
   "id": "6e334106",
   "metadata": {},
   "outputs": [],
   "source": []
  },
  {
   "cell_type": "markdown",
   "id": "fd06866b",
   "metadata": {},
   "source": [
    "####  Help Desk Ticket Trends Over the Years"
   ]
  },
  {
   "cell_type": "code",
   "execution_count": 128,
   "id": "637048bd",
   "metadata": {},
   "outputs": [
    {
     "name": "stdout",
     "output_type": "stream",
     "text": [
      " * sqlite:///demo.db\n",
      "Done.\n"
     ]
    },
    {
     "data": {
      "text/html": [
       "<table>\n",
       "    <thead>\n",
       "        <tr>\n",
       "            <th>Year</th>\n",
       "            <th>Number of Tickets</th>\n",
       "        </tr>\n",
       "    </thead>\n",
       "    <tbody>\n",
       "        <tr>\n",
       "            <td>2016</td>\n",
       "            <td>13051</td>\n",
       "        </tr>\n",
       "        <tr>\n",
       "            <td>2017</td>\n",
       "            <td>14915</td>\n",
       "        </tr>\n",
       "        <tr>\n",
       "            <td>2018</td>\n",
       "            <td>18954</td>\n",
       "        </tr>\n",
       "        <tr>\n",
       "            <td>2019</td>\n",
       "            <td>21490</td>\n",
       "        </tr>\n",
       "        <tr>\n",
       "            <td>2020</td>\n",
       "            <td>29088</td>\n",
       "        </tr>\n",
       "    </tbody>\n",
       "</table>"
      ],
      "text/plain": [
       "[('2016', 13051),\n",
       " ('2017', 14915),\n",
       " ('2018', 18954),\n",
       " ('2019', 21490),\n",
       " ('2020', 29088)]"
      ]
     },
     "execution_count": 128,
     "metadata": {},
     "output_type": "execute_result"
    }
   ],
   "source": [
    "%%sql\n",
    "\n",
    "SELECT strftime('%Y', \"Date_ticket_created\") AS \"Year\", COUNT(*) AS \"Number of Tickets\"\n",
    "FROM data\n",
    "GROUP BY \"Year\"\n",
    "ORDER BY \"Year\";\n"
   ]
  },
  {
   "cell_type": "code",
   "execution_count": 129,
   "id": "15ef2cb1",
   "metadata": {},
   "outputs": [
    {
     "data": {
      "image/png": "[encoded data removed]",
      "text/plain": [
       "<Figure size 1000x600 with 1 Axes>"
      ]
     },
     "metadata": {},
     "output_type": "display_data"
    }
   ],
   "source": [
    "query = \"\"\"\n",
    "SELECT strftime('%Y', \"Date_ticket_created\") AS \"Year\", COUNT(*) AS \"Number of Tickets\"\n",
    "FROM data\n",
    "GROUP BY \"Year\"\n",
    "ORDER BY \"Year\";\n",
    "\"\"\"\n",
    "\n",
    "tickets_by_year = pd.read_sql_query(query, connection)\n",
    "\n",
    "plt.figure(figsize=(10, 6))\n",
    "plt.plot(tickets_by_year['Year'], tickets_by_year['Number of Tickets'], marker='o')\n",
    "plt.xlabel('Year')\n",
    "plt.ylabel('Number of Tickets')\n",
    "plt.title('Help Desk Tickets Trend by Year')\n",
    "plt.xticks(rotation=45)\n",
    "plt.grid(True)\n",
    "plt.tight_layout()\n",
    "\n",
    "plt.show()"
   ]
  },
  {
   "cell_type": "markdown",
   "id": "794753f5",
   "metadata": {},
   "source": [
    "- In 2016, about 13,051 was tickets raised, and this number steadily increased over the subsequent years.\n",
    "\n",
    "- By 2020, the number of tickets raised had significantly escalated to 29,088. \n",
    "\n",
    "- This growth in ticket volume indicates an increasing reliance on the help desk services provided by the organization.\n",
    "\n",
    "- The trend suggests that customers are becoming more proactive in seeking assistance and reporting issues, which could be due to several factors such as the expansion of services, increased customer awareness, or the organization's emphasis on efficient issue resolution."
   ]
  },
  {
   "cell_type": "code",
   "execution_count": null,
   "id": "044e7a45",
   "metadata": {},
   "outputs": [],
   "source": []
  },
  {
   "cell_type": "markdown",
   "id": "839b344d",
   "metadata": {},
   "source": [
    "#### How does Average Satisfaction Rate vary among employee age_group"
   ]
  },
  {
   "cell_type": "code",
   "execution_count": 151,
   "id": "9c69c0ce",
   "metadata": {},
   "outputs": [
    {
     "name": "stdout",
     "output_type": "stream",
     "text": [
      " * sqlite:///demo.db\n",
      "Done.\n"
     ]
    },
    {
     "data": {
      "text/html": [
       "<table>\n",
       "    <thead>\n",
       "        <tr>\n",
       "            <th>Average Satisfaction Rate</th>\n",
       "            <th>Age_group</th>\n",
       "        </tr>\n",
       "    </thead>\n",
       "    <tbody>\n",
       "        <tr>\n",
       "            <td>4.2308368108939165</td>\n",
       "            <td>Youngsters</td>\n",
       "        </tr>\n",
       "        <tr>\n",
       "            <td>4.1580329782576975</td>\n",
       "            <td>Seniors</td>\n",
       "        </tr>\n",
       "        <tr>\n",
       "            <td>4.023065406568729</td>\n",
       "            <td>Middle_life</td>\n",
       "        </tr>\n",
       "        <tr>\n",
       "            <td>3.9394895115153292</td>\n",
       "            <td>Mid_year</td>\n",
       "        </tr>\n",
       "        <tr>\n",
       "            <td>4.0779372030187275</td>\n",
       "            <td>Elders</td>\n",
       "        </tr>\n",
       "    </tbody>\n",
       "</table>"
      ],
      "text/plain": [
       "[(4.2308368108939165, 'Youngsters'),\n",
       " (4.1580329782576975, 'Seniors'),\n",
       " (4.023065406568729, 'Middle_life'),\n",
       " (3.9394895115153292, 'Mid_year'),\n",
       " (4.0779372030187275, 'Elders')]"
      ]
     },
     "execution_count": 151,
     "metadata": {},
     "output_type": "execute_result"
    }
   ],
   "source": [
    "%%sql\n",
    "\n",
    "SELECT\n",
    "    \n",
    "    AVG(d.\"Satisfaction Rate\") AS \"Average Satisfaction Rate\",\n",
    "    CASE\n",
    "        WHEN a.\"Age\" BETWEEN 24 AND 29 THEN 'Youngsters'\n",
    "        WHEN a.\"Age\" BETWEEN 30 AND 34 THEN 'Mid_year'\n",
    "        WHEN a.\"Age\" BETWEEN 35 AND 39 THEN 'Middle_life'\n",
    "        WHEN a.\"Age\" BETWEEN 40 AND 44 THEN 'Elders'\n",
    "        ELSE 'Seniors' \n",
    "    END AS Age_group\n",
    "FROM agents a\n",
    "JOIN data d ON a.\"Agent ID\" = d.\"Agent ID\"\n",
    "GROUP BY Age_group\n",
    "ORDER BY Age_group DESC;"
   ]
  },
  {
   "cell_type": "code",
   "execution_count": 152,
   "id": "54141392",
   "metadata": {},
   "outputs": [
    {
     "data": {
      "image/png": "[encoded data removed]",
      "text/plain": [
       "<Figure size 1000x600 with 1 Axes>"
      ]
     },
     "metadata": {},
     "output_type": "display_data"
    }
   ],
   "source": [
    "query = \"\"\"\n",
    "SELECT\n",
    "    \n",
    "    AVG(d.\"Satisfaction Rate\") AS \"Average Satisfaction Rate\",\n",
    "    CASE\n",
    "        WHEN a.\"Age\" BETWEEN 24 AND 29 THEN 'Youngsters'\n",
    "        WHEN a.\"Age\" BETWEEN 30 AND 34 THEN 'Mid_year'\n",
    "        WHEN a.\"Age\" BETWEEN 35 AND 39 THEN 'Middle_life'\n",
    "        WHEN a.\"Age\" BETWEEN 40 AND 44 THEN 'Elders'\n",
    "        ELSE 'Seniors' \n",
    "    END AS Age_group\n",
    "FROM agents a\n",
    "JOIN data d ON a.\"Agent ID\" = d.\"Agent ID\"\n",
    "GROUP BY Age_group\n",
    "ORDER BY Age_group DESC;\n",
    "\"\"\"\n",
    "\n",
    "avg_satisfaction_rate_by_employee_age_group = pd.read_sql_query(query, connection)\n",
    "\n",
    "plt.figure(figsize=(10, 6))\n",
    "plt.bar(avg_satisfaction_rate_by_employee_age_group['Age_group'], avg_satisfaction_rate_by_employee_age_group['Average Satisfaction Rate'])\n",
    "plt.xlabel('Age_group')\n",
    "plt.ylabel('Average Satisfaction Rate')\n",
    "plt.title('Average Satisfaction Rate By Employee Age_Group')\n",
    "plt.xticks(rotation=45, ha='right')\n",
    "plt.tight_layout()\n",
    "\n",
    "plt.show()"
   ]
  },
  {
   "cell_type": "markdown",
   "id": "e86447a5",
   "metadata": {},
   "source": [
    "- Based on the dataset provided, the average satisfaction rate is relatively higher for the \"Youngsters\" and \"Seniors\" age groups, while it's slightly lower for the \"Middle Life,\" \"Mid Year,\" and \"Elders\" age groups. \n",
    "\n",
    "- This could indicate that younger and older employees tend to have higher satisfaction rates compared to those in the middle age groups."
   ]
  },
  {
   "cell_type": "code",
   "execution_count": null,
   "id": "da947d82",
   "metadata": {},
   "outputs": [],
   "source": []
  }
 ],
 "metadata": {
  "kernelspec": {
   "display_name": "Python 3 (ipykernel)",
   "language": "python",
   "name": "python3"
  },
  "language_info": {
   "codemirror_mode": {
    "name": "ipython",
    "version": 3
   },
   "file_extension": ".py",
   "mimetype": "text/x-python",
   "name": "python",
   "nbconvert_exporter": "python",
   "pygments_lexer": "ipython3",
   "version": "3.10.9"
  }
 },
 "nbformat": 4,
 "nbformat_minor": 5
}
